{
 "cells": [
  {
   "cell_type": "markdown",
   "metadata": {},
   "source": [
    "Data Science Fundamentals: Python |\n",
    "[Table of Contents](../index.ipynb)\n",
    "- - - \n",
    "<!--NAVIGATION-->\n",
    "Module 17. **[Overview](./00_julia_overview.ipynb)** | [Getting Started](./01_julia_started.ipynb) | [Commands](./02_julia_commands.ipynb) | [Package: Gadfly](./03_julia_gadfly.ipynb)"
   ]
  },
  {
   "cell_type": "markdown",
   "metadata": {},
   "source": [
    "# Overview of Julia 1.4.1"
   ]
  },
  {
   "cell_type": "markdown",
   "metadata": {},
   "source": [
    "<b>What is Julia?</b><br><br>Julia is a high-level, high-performance dynamic programming language for technical computing, with syntax that is familiar to users of other technical computing environments. It provides a sophisticated compiler, distributed parallel execution, numerical accuracy, and an extensive mathematical function library. Julia’s Base library, largely written in Julia itself, also integrates mature, best-of-breed open source C and Fortran libraries for linear algebra, random number generation, signal processing, and string processing. See the [website here](http://julialang.org/)."
   ]
  },
  {
   "cell_type": "markdown",
   "metadata": {},
   "source": [
    "Summary of Features\n",
    "---"
   ]
  },
  {
   "cell_type": "markdown",
   "metadata": {},
   "source": [
    "- Multiple dispatch: providing ability to define function behavior across many combinations of argument types\n",
    "- Dynamic type system: types for documentation, optimization, and dispatch\n",
    "- Good performance, approaching that of statically-compiled languages like C\n",
    "- Built-in package manager\n",
    "- Lisp-like macros and other metaprogramming facilities\n",
    "- Call Python functions: use the PyCall package\n",
    "- Call C functions directly: no wrappers or special APIs\n",
    "- Powerful shell-like capabilities for managing other processes\n",
    "- Designed for parallelism and distributed computation\n",
    "- Coroutines: lightweight “green” threading\n",
    "- User-defined types are as fast and compact as built-ins\n",
    "- Automatic generation of efficient, specialized code for different argument types\n",
    "- Elegant and extensible conversions and promotions for numeric and other types\n",
    "- Efficient support for Unicode, including but not limited to UTF-8"
   ]
  },
  {
   "cell_type": "markdown",
   "metadata": {},
   "source": [
    "High-Performance JIT Compiler\n",
    "---\n",
    "Julia’s LLVM-based just-in-time (JIT) compiler combined with the language’s design allow it to approach and often match the performance of C. To get a sense of relative performance of Julia compared to other languages that can or could be used for numerical and scientific computing, we’ve written a small set of micro-benchmarks in a variety of languages: C, Fortran, Julia, Python, Matlab/Octave, R, JavaScript, Java, Lua, Go, and Mathematica."
   ]
  },
  {
   "cell_type": "markdown",
   "metadata": {},
   "source": [
    "![caption](files/compiler.png)"
   ]
  },
  {
   "cell_type": "markdown",
   "metadata": {},
   "source": [
    "Installation on Windows\n",
    "---\n"
   ]
  },
  {
   "cell_type": "markdown",
   "metadata": {},
   "source": [
    "Julia is available for <a href=\"https://julialang.org/downloads/\">64-bit</a> Windows.\n",
    "\n",
    "- Download the Windows julia.exe installer for your platform. 64-bit julia will only run on 64-bit Windows (x86_64).\n",
    "- Run the downloaded program to extract julia\n",
    "- Double-click the julia shortcut in the unpacked folder to start julia\n",
    "- The Windows README contains information on dependencies.\n",
    "\n",
    "Uninstallation is performed by deleting the extracted directory and the packages directory in %HOME%/.julia. If you would also like to remove your preferences files, remove %HOME%/.juliarc.jl and %HOME%/.julia_history."
   ]
  },
  {
   "cell_type": "markdown",
   "metadata": {},
   "source": [
    "Installation on Mac OS X\n",
    "---\n"
   ]
  },
  {
   "cell_type": "markdown",
   "metadata": {},
   "source": [
    "On Mac, a Julia-version.dmg <a href=\"https://julialang.org/downloads/\">64-bit</a> file is provided, which contains Julia.app. Installation is the same as any other Mac software – copy the Julia.app to your hard-drive (anywhere) or run from the disk image. Julia supports all OS X 10.7 and later. If you use Snow Leopard (OSX 10.6), Julia 0.2.1 was the last release of Julia that supported it.\n",
    "\n",
    "Uninstall Julia by deleting Julia.app and the packages directory in ~/.julia. Multiple Julia.app binaries can co-exist without interfering with each other. If you would also like to remove your preferences files, remove ~/.juliarc.jl."
   ]
  },
  {
   "cell_type": "markdown",
   "metadata": {
    "collapsed": true
   },
   "source": [
    "- - - \n",
    "<!--NAVIGATION-->\n",
    "Module 17. **[Overview](./17_mod_julia/00_julia_overview.ipynb)** | [Getting Started](./17_mod_julia/01_julia_started.ipynb) | [Commands](./17_mod_julia/02_julia_commands.ipynb) | [Package: Gadfly](./17_mod_julia/03_julia_gadfly.ipynb)\n",
    "<br>\n",
    "[Top](#)"
   ]
  },
  {
   "cell_type": "markdown",
   "metadata": {},
   "source": [
    "- - -\n",
    "\n",
    "Copyright © 2020 Qualex Consulting Services Incorporated."
   ]
  },
  {
   "cell_type": "code",
   "execution_count": null,
   "metadata": {},
   "outputs": [],
   "source": []
  }
 ],
 "metadata": {
  "kernelspec": {
   "display_name": "Julia 1.1.0",
   "language": "julia",
   "name": "julia-1.1"
  },
  "language_info": {
   "file_extension": ".jl",
   "mimetype": "application/julia",
   "name": "julia",
   "version": "1.1.0"
  }
 },
 "nbformat": 4,
 "nbformat_minor": 1
}
