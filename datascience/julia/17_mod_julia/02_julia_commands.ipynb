{
 "cells": [
  {
   "cell_type": "markdown",
   "metadata": {},
   "source": [
    "Data Science Fundamentals: Python |\n",
    "[Table of Contents](../index.ipynb)\n",
    "- - - \n",
    "<!--NAVIGATION-->\n",
    "Module 17. [Overview](./00_julia_overview.ipynb) | [Getting Started](./01_julia_started.ipynb) | **[Commands](./02_julia_commands.ipynb)** | [Package: Gadfly](./03_julia_gadfly.ipynb)"
   ]
  },
  {
   "cell_type": "markdown",
   "metadata": {},
   "source": [
    "# Commands"
   ]
  },
  {
   "cell_type": "markdown",
   "metadata": {},
   "source": [
    "Our approach is aimed at those who already have at least some knowledge of programming — perhaps experience with Python, MATLAB, R, C or similar\n",
    "\n",
    "In particular, we assume you have some familiarity with fundamental programming concepts such as\n",
    "\n",
    "- variables\n",
    "- loops\n",
    "- conditionals (if/else)"
   ]
  },
  {
   "cell_type": "markdown",
   "metadata": {},
   "source": [
    "Example: Plotting a White Noise Process\n",
    "---\n",
    "\n",
    "To begin, let’s suppose that we want to simulate and plot the white noise process ε0,ε1,…,εTε0,ε1,…,εT, where each draw εtεt is independent standard normal\n",
    "\n",
    "In other words, we want to generate figures that look something like this:"
   ]
  },
  {
   "cell_type": "markdown",
   "metadata": {},
   "source": [
    "![caption](files/test_program_1.png)"
   ]
  },
  {
   "cell_type": "raw",
   "metadata": {},
   "source": [
    "using PyPlot\n",
    "ts_length = 100\n",
    "epsilon_values = randn(ts_length)\n",
    "plot(epsilon_values, \"b-\")"
   ]
  },
  {
   "cell_type": "markdown",
   "metadata": {},
   "source": [
    "In brief,\n",
    "\n",
    "using PyPlot makes the functionality in PyPlot available for use\n",
    "\n",
    "In particular, it pulls the names exported by the PyPlot module into the global scope\n",
    "One of these is plot(), which in turn calls the plot function from Matplotlib\n",
    "randn() is a Julia function from the standard library for generating standard normals"
   ]
  },
  {
   "cell_type": "markdown",
   "metadata": {},
   "source": [
    "Importing Functions\n",
    "---\n",
    "\n",
    "The effect of the statement using PyPlot is to make all the names exported by the PyPlot module available in the global scope\n",
    "\n",
    "If you prefer to be more selective you can replace using PyPlot with import PyPlot: plot\n",
    "\n",
    "Now only the plot function is accessible\n",
    "\n",
    "Since our program uses only the plot function from this module, either would have worked in the previous example"
   ]
  },
  {
   "cell_type": "markdown",
   "metadata": {},
   "source": [
    "Arrays\n",
    "---\n",
    "\n",
    "The function call epsilon_values = randn(ts_length) creates one of the most fundamental Julia data types: an array"
   ]
  },
  {
   "cell_type": "code",
   "execution_count": 10,
   "metadata": {},
   "outputs": [
    {
     "data": {
      "text/plain": [
       "Array{Float64,1}"
      ]
     },
     "execution_count": 10,
     "metadata": {},
     "output_type": "execute_result"
    }
   ],
   "source": [
    "typeof(epsilon_values)"
   ]
  },
  {
   "cell_type": "code",
   "execution_count": 11,
   "metadata": {},
   "outputs": [
    {
     "data": {
      "text/plain": [
       "100-element Array{Float64,1}:\n",
       " -0.97022  \n",
       " -0.768929 \n",
       " -0.395993 \n",
       "  0.475183 \n",
       "  0.638632 \n",
       " -0.398748 \n",
       " -0.0803466\n",
       "  1.00184  \n",
       " -0.704845 \n",
       " -1.43405  \n",
       "  0.434751 \n",
       " -0.0922058\n",
       " -0.464083 \n",
       "  ⋮        \n",
       " -0.854893 \n",
       "  0.755098 \n",
       " -0.843619 \n",
       "  0.277663 \n",
       " -0.903036 \n",
       " -1.51335  \n",
       " -0.659376 \n",
       " -0.740348 \n",
       "  1.13515  \n",
       " -0.895744 \n",
       "  0.02137  \n",
       " -1.55444  "
      ]
     },
     "execution_count": 11,
     "metadata": {},
     "output_type": "execute_result"
    }
   ],
   "source": [
    "epsilon_values\n"
   ]
  },
  {
   "cell_type": "markdown",
   "metadata": {},
   "source": [
    "The information from typeof() tells us that epsilon_values is an array of 64 bit floating point values, of dimension 1\n",
    "\n",
    "Julia arrays are quite flexible — they can store heterogeneous data for example"
   ]
  },
  {
   "cell_type": "code",
   "execution_count": 12,
   "metadata": {},
   "outputs": [
    {
     "data": {
      "text/plain": [
       "3-element Array{Any,1}:\n",
       "    10     \n",
       "      \"foo\"\n",
       " false     "
      ]
     },
     "execution_count": 12,
     "metadata": {},
     "output_type": "execute_result"
    }
   ],
   "source": [
    "x = [10, \"foo\", false]"
   ]
  },
  {
   "cell_type": "markdown",
   "metadata": {},
   "source": [
    "Notice now that the data type is recorded as Any, since the array contains mixed data\n",
    "\n",
    "The first element of x is an integer"
   ]
  },
  {
   "cell_type": "code",
   "execution_count": 13,
   "metadata": {},
   "outputs": [
    {
     "data": {
      "text/plain": [
       "Int64"
      ]
     },
     "execution_count": 13,
     "metadata": {},
     "output_type": "execute_result"
    }
   ],
   "source": [
    "typeof(x[1])"
   ]
  },
  {
   "cell_type": "markdown",
   "metadata": {},
   "source": [
    "The second is a string"
   ]
  },
  {
   "cell_type": "code",
   "execution_count": 14,
   "metadata": {},
   "outputs": [
    {
     "data": {
      "text/plain": [
       "ASCIIString"
      ]
     },
     "execution_count": 14,
     "metadata": {},
     "output_type": "execute_result"
    }
   ],
   "source": [
    "typeof(x[2])"
   ]
  },
  {
   "cell_type": "markdown",
   "metadata": {},
   "source": [
    "The third is the boolean value false"
   ]
  },
  {
   "cell_type": "code",
   "execution_count": 15,
   "metadata": {},
   "outputs": [
    {
     "data": {
      "text/plain": [
       "Bool"
      ]
     },
     "execution_count": 15,
     "metadata": {},
     "output_type": "execute_result"
    }
   ],
   "source": [
    "typeof(x[3])"
   ]
  },
  {
   "cell_type": "markdown",
   "metadata": {},
   "source": [
    "Notice from the above that\n",
    "\n",
    "- array indices start at 1 (unlike Python, where arrays are zero-based)\n",
    "- array elements are referenced using square brackets (unlike MATLAB and Fortran)\n",
    "- Julia contains many functions for acting on arrays — we’ll review them later\n",
    "\n",
    "For now here’s several examples, applied to the same list x = [10, \"foo\", false]"
   ]
  },
  {
   "cell_type": "raw",
   "metadata": {},
   "source": [
    "julia> length(x)\n",
    "3\n",
    "\n",
    "julia> pop!(x)\n",
    "false\n",
    "\n",
    "julia> x\n",
    "2-element Array{Any,1}:\n",
    " 10\n",
    " \"foo\"\n",
    "\n",
    "julia> push!(x, \"bar\")\n",
    "3-element Array{Any,1}:\n",
    " 10\n",
    " \"foo\"\n",
    " \"bar\"\n",
    "\n",
    "julia> x\n",
    "3-element Array{Any,1}:\n",
    " 10\n",
    " \"foo\"\n",
    " \"bar\""
   ]
  },
  {
   "cell_type": "markdown",
   "metadata": {},
   "source": [
    "The first example just returns the length of the list\n",
    "\n",
    "The second, pop!(), pops the last element off the list and returns it\n",
    "\n",
    "In doing so it changes the list (by dropping the last element)\n",
    "\n",
    "Because of this we call pop! a mutating method\n",
    "\n",
    "It’s conventional in Julia that mutating methods end in ! to remind the user that the function has other effects beyond just returning a value\n",
    "\n",
    "The function push!() is similar, expect that it appends its second argument to the array"
   ]
  },
  {
   "cell_type": "markdown",
   "metadata": {},
   "source": [
    "For Loops\n",
    "---\n",
    "\n",
    "Although there’s no need in terms of what we wanted to achieve with our program, for the sake of learning syntax let’s rewrite our program to use a for loop"
   ]
  },
  {
   "cell_type": "raw",
   "metadata": {},
   "source": [
    "using PyPlot\n",
    "ts_length = 100\n",
    "epsilon_values = Array(Float64, ts_length)\n",
    "for i in 1:ts_length\n",
    "    epsilon_values[i] = randn()\n",
    "end\n",
    "plot(epsilon_values, \"b-\")"
   ]
  },
  {
   "cell_type": "markdown",
   "metadata": {},
   "source": [
    "Here we first declared epsilon_values to be an empty array for storing 64 bit floating point numbers\n",
    "\n",
    "The for loop then populates this array by successive calls to randn()\n",
    "\n",
    "Called without an argument, randn() returns a single float\n",
    "Like all code blocks in Julia, the end of the for loop code block (which is just one line here) is indicated by the keyword end\n",
    "\n",
    "The word in from the for loop can be replaced by symbol =\n",
    "\n",
    "The expression 1:ts_length creates an iterator that is looped over — in this case the integers from 1 to ts_length\n",
    "\n",
    "Iterators are memory efficient because the elements are generated on the fly rather than stored in memory\n",
    "\n",
    "In Julia you can also loop directly over arrays themselves, like so"
   ]
  },
  {
   "cell_type": "code",
   "execution_count": 17,
   "metadata": {},
   "outputs": [
    {
     "name": "stdout",
     "output_type": "stream",
     "text": [
      "Hello foo\n",
      "Hello bar\n"
     ]
    }
   ],
   "source": [
    "words = [\"foo\", \"bar\"]\n",
    "for word in words\n",
    "    println(\"Hello $word\")\n",
    "end"
   ]
  },
  {
   "cell_type": "markdown",
   "metadata": {},
   "source": [
    "While Loops\n",
    "---\n",
    "\n",
    "The syntax for the while loop contains no surprises"
   ]
  },
  {
   "cell_type": "raw",
   "metadata": {},
   "source": [
    "using PyPlot\n",
    "ts_length = 100\n",
    "epsilon_values = Array(Float64, ts_length)\n",
    "i = 1\n",
    "while i <= ts_length\n",
    "    epsilon_values[i] = randn()\n",
    "    i = i + 1\n",
    "end\n",
    "plot(epsilon_values, \"b-\")"
   ]
  },
  {
   "cell_type": "markdown",
   "metadata": {},
   "source": [
    "The next example does the same thing with a condition and the break statement"
   ]
  },
  {
   "cell_type": "raw",
   "metadata": {},
   "source": [
    "using PyPlot\n",
    "ts_length = 100\n",
    "epsilon_values = Array(Float64, ts_length)\n",
    "i = 1\n",
    "while true\n",
    "    epsilon_values[i] = randn()\n",
    "    i = i + 1\n",
    "    if i > ts_length\n",
    "        break\n",
    "    end\n",
    "end\n",
    "plot(epsilon_values, \"b-\")"
   ]
  },
  {
   "cell_type": "markdown",
   "metadata": {},
   "source": [
    "User-Defined Functions\n",
    "---\n",
    "\n",
    "For the sake of the exercise, let’s now go back to the for loop but restructure our program so that generation of random variables takes place within a user-defined function"
   ]
  },
  {
   "cell_type": "raw",
   "metadata": {},
   "source": [
    "using PyPlot\n",
    "\n",
    "function generate_data(n)\n",
    "    epsilon_values = Array(Float64, n)\n",
    "    for i = 1:n\n",
    "        epsilon_values[i] = randn()\n",
    "    end\n",
    "    return epsilon_values\n",
    "end\n",
    "\n",
    "ts_length = 100\n",
    "data = generate_data(ts_length)\n",
    "plot(data, \"b-\")"
   ]
  },
  {
   "cell_type": "markdown",
   "metadata": {},
   "source": [
    "Here\n",
    "\n",
    "- function is a Julia keyword that indicates the start of a function definition\n",
    "- generate_data is an arbitrary name for the function\n",
    "- return is a keyword indicating the return value"
   ]
  },
  {
   "cell_type": "markdown",
   "metadata": {},
   "source": [
    "More Useful Functions\n",
    "---\n",
    "\n",
    "Of course the function generate_data is completely contrived\n",
    "\n",
    "We could just write the following and be done"
   ]
  },
  {
   "cell_type": "raw",
   "metadata": {},
   "source": [
    "ts_length = 100\n",
    "data = randn(ts_length)\n",
    "plot(data, \"b-\")"
   ]
  },
  {
   "cell_type": "markdown",
   "metadata": {},
   "source": [
    "This function will be passed a choice of probability distribution and respond by plotting a histogram of observations\n",
    "\n",
    "In doing so we’ll make use of the Distributions package"
   ]
  },
  {
   "cell_type": "raw",
   "metadata": {},
   "source": [
    "julia> Pkg.add(\"Distributions\")"
   ]
  },
  {
   "cell_type": "raw",
   "metadata": {},
   "source": [
    "using PyPlot\n",
    "using Distributions\n",
    "\n",
    "function plot_histogram(distribution, n)\n",
    "    epsilon_values = rand(distribution, n)  # n draws from distribution\n",
    "    plt[:hist](epsilon_values)\n",
    "end\n",
    "\n",
    "lp = Laplace()\n",
    "plot_histogram(lp, 500)"
   ]
  },
  {
   "cell_type": "markdown",
   "metadata": {},
   "source": [
    "First, lp = Laplace() creates an instance of a data type defined in the Distributions module that represents the Laplace distribution\n",
    "\n",
    "The name lp is bound to this object\n",
    "\n",
    "When we make the function call plot_histogram(lp, 500) the code in the body of the function plot_histogram is run with\n",
    "\n",
    "the name distribution bound to the same object as lp\n",
    "the name n bound to the integer 500"
   ]
  },
  {
   "cell_type": "markdown",
   "metadata": {},
   "source": [
    "How It Works\n",
    "---"
   ]
  },
  {
   "cell_type": "markdown",
   "metadata": {},
   "source": [
    "Consider the function call rand(distribution, n)\n",
    "\n",
    "This looks like something of a mystery\n",
    "\n",
    "The function rand() is defined in the base library such that rand(n) returns n uniform random variables on [0,1)"
   ]
  },
  {
   "cell_type": "code",
   "execution_count": 21,
   "metadata": {},
   "outputs": [
    {
     "data": {
      "text/plain": [
       "3-element Array{Float64,1}:\n",
       " 0.760911\n",
       " 0.480226\n",
       " 0.910422"
      ]
     },
     "execution_count": 21,
     "metadata": {},
     "output_type": "execute_result"
    }
   ],
   "source": [
    "rand(3)"
   ]
  },
  {
   "cell_type": "markdown",
   "metadata": {},
   "source": [
    "On the other hand, distribution points to a data type representing the Laplace distribution that has been defined in a third party package\n",
    "\n",
    "So how can it be that rand() is able to take this kind of object as an argument and return the output that we want?\n",
    "\n",
    "The answer in a nutshell is multiple dispatch\n",
    "\n",
    "This refers to the idea that functions in Julia can have different behavior depending on the particular arguments that they’re passed\n",
    "\n",
    "Hence in Julia we can take an existing function and give it a new behavior by defining how it acts on a new type of object\n",
    "\n",
    "The interpreter knows which function definition to apply in a given setting by looking at the types of the objects the function is called on\n",
    "\n",
    "In Julia these alternative versions of a function are called methods"
   ]
  },
  {
   "cell_type": "markdown",
   "metadata": {
    "collapsed": true
   },
   "source": [
    "- - - \n",
    "<!--NAVIGATION-->\n",
    "Module 17. [Overview](./00_julia_overview.ipynb) | [Getting Started](./01_julia_started.ipynb) | **[Commands](./02_julia_commands.ipynb)** | [Package: Gadfly](./03_julia_gadfly.ipynb)"
   ]
  },
  {
   "cell_type": "markdown",
   "metadata": {},
   "source": [
    "- - -\n",
    "\n",
    "Copyright © 2020 Qualex Consulting Services Incorporated."
   ]
  },
  {
   "cell_type": "code",
   "execution_count": null,
   "metadata": {},
   "outputs": [],
   "source": []
  }
 ],
 "metadata": {
  "kernelspec": {
   "display_name": "Julia 1.1.0",
   "language": "julia",
   "name": "julia-1.1"
  },
  "language_info": {
   "file_extension": ".jl",
   "mimetype": "application/julia",
   "name": "julia",
   "version": "1.1.0"
  }
 },
 "nbformat": 4,
 "nbformat_minor": 1
}
