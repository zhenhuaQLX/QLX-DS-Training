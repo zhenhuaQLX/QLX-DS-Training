{
 "cells": [
  {
   "cell_type": "markdown",
   "metadata": {},
   "source": [
    "# Data Science Fundamentals: Introduction To R"
   ]
  },
  {
   "cell_type": "markdown",
   "metadata": {},
   "source": [
    "R is a programming language and free software environment for statistical computing and graphics supported by the R Foundation for Statistical Computing. The R language is widely used among statisticians and data miners for developing statistical software and data analysis."
   ]
  },
  {
   "cell_type": "markdown",
   "metadata": {},
   "source": [
    "## Index \n",
    "\n",
    "- Module 13.  [Basic R Syntax](./datascience/r/01.ipynb) : **11JUN2020**\n",
    "- Module 14.  [Tibbles & ggplot](./datascience/r/02.ipynb) : **16JUN2020**\n",
    "- Module 15.  [Data Transformation](./datascience/r/03.ipynb) : **18JUN2020**\n",
    "- Module 16.  [Data Exploration](./datascience/r/04.ipynb) : **23JUN2020**\n"
   ]
  },
  {
   "cell_type": "markdown",
   "metadata": {},
   "source": [
    "- - -\n",
    "Training Feedback\n",
    "---\n",
    "If you have any questions or comments, feel free to get in touch:\n",
    "\n",
    "Twitter: [@techtalentsouth](https://twitter.com/techtalentsouth)\n",
    "\n",
    "Email: info at techtalentsouth dot com\n",
    "\n",
    "LinkedIn: [Tech Talent South](https://www.linkedin.com/company/tech-talent-south/)\n"
   ]
  },
  {
   "cell_type": "markdown",
   "metadata": {},
   "source": [
    "- - -\n",
    "\n",
    "About Your Trainer\n",
    "---\n",
    "Gary Jackson is a technologist, teacher, and data scientist. \n",
    "\n",
    "Gary brings with him nearly two decades of experiences in IT, Enterprise Architecture, and Big Data & Analytics working for and within multinational companies around the world.\n",
    "\n",
    "Gary helped create the first [Artificial Intelligence written magazine, **Esquire Singapore April 2019** issue](https://wlos.com/news/local/wnc-writer-part-of-international-magazines-artificial-intelligence-team) with a technology called **[AI-Writer](http://ai-writer.com/)**.  More recently, co-founded **[Blockstamped.io](https://blockstamped.io) to [prevent false narratives AKA 'fake news' and deep fakes using Ethereum Blockchain](https://wlos.com/news/local/one-company-works-to-prevent-spread-of-fake-videos)**. \n",
    "\n",
    "On this new **Blockstamped** platform, built the first blockchain authencity app for the media industry with the help of Oscar nominated, multiple Grammy Award winner, ['Bassy' Bob Brockmann](http://www.bassybob.com/) to help digitalize licensing and royalty payments to producers and artists.  This app is called **[Bassed.io](https://www.facebook.com/blockstamped/videos/510817576274052)**. \n",
    "\n",
    "Gary formally was Regional Director of System Integrators (SIs) and Technology Partners for Qlik across Asia Pacific (including Japan, Australia, and New Zealand), Gary led the drive for interactive and collaborative partnerships between global and regional SIs, Business Consulting firms, and Technology Partners. These included Deloitte, KPMG, PwC, Accenture, Wipro, Cloudera, Revolution Analytics, MapR, Intel, and many others.\n",
    "\n",
    "Prior to that he was the Principal for Big Data & Analytics Growth Markets, for Computer Sciences Corporation (CSC), supporting Latin America and Asia-Pacific traveling back and forth between São Paulo, Brasil and Hong Kong. Gary has also worked for SAS Institute as Head of Technology for Asia Pacific, South Africa, Europe, and North America for more than a decade.\n",
    "\n",
    "Gary holds a Bachelor of Science in Computer Information Systems, Information Technology and Computer Information Systems from DeVry University. He is based both in Hong Kong 香港 and Asheville, North Carolina."
   ]
  },
  {
   "cell_type": "markdown",
   "metadata": {},
   "source": [
    "---\n",
    "Contact your trainer at \n",
    "\n",
    "Twitter: [@enterlol](https://twitter.com/enterlol)\n",
    "\n",
    "Email: gary dot jackson at qlx dot com\n",
    "\n",
    "LinkedIn: [https://hk.linkedin.com/in/gsjackson](https://hk.linkedin.com/in/gsjackson)"
   ]
  },
  {
   "cell_type": "markdown",
   "metadata": {},
   "source": [
    "- - -\n",
    "\n",
    "Copyright © 2020 Qualex Consulting Services Incorporated."
   ]
  },
  {
   "cell_type": "code",
   "execution_count": null,
   "metadata": {},
   "outputs": [],
   "source": []
  }
 ],
 "metadata": {
  "kernelspec": {
   "display_name": "R",
   "language": "R",
   "name": "ir"
  },
  "language_info": {
   "codemirror_mode": "r",
   "file_extension": ".r",
   "mimetype": "text/x-r-source",
   "name": "R",
   "pygments_lexer": "r",
   "version": "3.6.2"
  }
 },
 "nbformat": 4,
 "nbformat_minor": 4
}
