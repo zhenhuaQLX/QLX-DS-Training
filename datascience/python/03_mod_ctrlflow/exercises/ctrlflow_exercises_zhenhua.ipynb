{
 "cells": [
  {
   "cell_type": "markdown",
   "metadata": {},
   "source": [
    "Data Science Fundamentals: Python |\n",
    "[Table of Contents](../index.ipynb)\n",
    "- - - \n",
    "<!--NAVIGATION-->\n",
    "Module 3. [Control Flow](./01_mod_control_flow.ipynb) | [Statements](./02_python_statements.ipynb) | [Functions](./03_python_functions.ipynb) | **[Exercises](./04_mod_exercises.ipynb)**"
   ]
  },
  {
   "cell_type": "markdown",
   "metadata": {},
   "source": [
    "# Module 3: Practice Exercises"
   ]
  },
  {
   "cell_type": "markdown",
   "metadata": {},
   "source": [
    "1. Guess a number between 1 to 9 given by the user. Hint. [Random](https://docs.python.org/3/library/random.html)"
   ]
  },
  {
   "cell_type": "code",
   "execution_count": 10,
   "metadata": {},
   "outputs": [
    {
     "name": "stdout",
     "output_type": "stream",
     "text": [
      "You input a number:3.\n"
     ]
    }
   ],
   "source": [
    "import random\n",
    "ranNum = random.randrange(1, 10, 1) \n",
    "for i in range(1,10):\n",
    "    if ranNum == i:\n",
    "        print(\"You input a number:{}.\".format(i))"
   ]
  },
  {
   "cell_type": "markdown",
   "metadata": {},
   "source": [
    "2. Check the validity of password input by the user. Hint. [Re](https://docs.python.org/3/library/re.html) which does matching operations much like Perl.\n",
    "\n",
    "Validation:\n",
    "\n",
    "- At least 1 letter between [a-z] and 1 letter between [A-Z].\n",
    "- At least 1 number between [0-9].\n",
    "- At least 1 character from [$#@!].\n",
    "- Minimum length 6 characters.\n",
    "- Maximum length 16 characters."
   ]
  },
  {
   "cell_type": "code",
   "execution_count": 21,
   "metadata": {},
   "outputs": [
    {
     "name": "stdout",
     "output_type": "stream",
     "text": [
      "input your password: aBa9#cv\n",
      "Password is valid.\n"
     ]
    }
   ],
   "source": [
    "import re\n",
    "pwd = input(\"input your password: \")\n",
    "lo_pwd = bool(re.findall('[a-z]+',pwd))\n",
    "up_pwd = bool(re.findall('[A-Z]+',pwd))\n",
    "num_pwd = bool(re.findall('[0-9]+',pwd))\n",
    "other_pwd = bool(re.findall('[$#@!]+',pwd))\n",
    "if lo_pwd & up_pwd & num_pwd & other_pwd & (len(pwd) >= 6) & (len(pwd) <= 16):\n",
    "    print(\"Password is valid.\".format(pwd))\n",
    "else:\n",
    "    print(\"Password: {} is invalid.\".format(pwd))\n"
   ]
  },
  {
   "cell_type": "markdown",
   "metadata": {},
   "source": [
    "3. Get input of the age of 3 people by user and determine oldest and youngest among them"
   ]
  },
  {
   "cell_type": "code",
   "execution_count": 27,
   "metadata": {},
   "outputs": [
    {
     "name": "stdout",
     "output_type": "stream",
     "text": [
      "Input 3 people's ages seperated by space:23 34 56\n",
      "The oldest is 23, and the yongest is 56\n"
     ]
    }
   ],
   "source": [
    "per1, per2, per3 = input(\"Input 3 people's ages seperated by space:\").split()\n",
    "all_ages = [per1,per2,per3]\n",
    "print(\"The oldest is {}, and the yongest is {}\".format(min(all_ages), max(all_ages)))"
   ]
  },
  {
   "cell_type": "markdown",
   "metadata": {},
   "source": [
    "4. A student will not be allowed to sit in exam if his/her attendance is less than 75%.\n",
    "\n",
    "Take following input from user\n",
    "\n",
    "- Number of classes held\n",
    "- Number of classes attended.\n",
    "- And print percentage of class attended\n",
    "- Is student is allowed to sit in exam or not?"
   ]
  },
  {
   "cell_type": "code",
   "execution_count": 2,
   "metadata": {},
   "outputs": [
    {
     "name": "stdout",
     "output_type": "stream",
     "text": [
      "Classes held: 8\n",
      "Classes attended: 10\n",
      "125%\n",
      "You can take part in the exam\n"
     ]
    }
   ],
   "source": [
    "cls_h = int(input(\"Classes held: \"))\n",
    "cls_a = int(input(\"Classes attended: \"))\n",
    "print(\"{:.0%}\".format(cls_a/cls_h))\n",
    "if (cls_a/cls_h) < 0.75 :\n",
    "    print(\"You can not take part in the exam\")\n",
    "else:\n",
    "    print(\"You can take part in the exam\")"
   ]
  },
  {
   "cell_type": "markdown",
   "metadata": {},
   "source": [
    "5. Get an integer N from the user and perform the following actions:\n",
    "\n",
    "Find out - \n",
    "- if N is odd, print \"weird\"\n",
    "- if N is even and in the inclusive range of 2 to 5, print \"Not Weird\"\n",
    "- if N is even and in the inclusive range of 6 to 20, print \"Weird\"\n",
    "- if N is even and greater than 20, print \"Not Weird\""
   ]
  },
  {
   "cell_type": "code",
   "execution_count": 8,
   "metadata": {},
   "outputs": [
    {
     "name": "stdout",
     "output_type": "stream",
     "text": [
      "Please input a number: 24\n",
      "Not Weird\n"
     ]
    }
   ],
   "source": [
    "num = int(input(\"Please input a number: \"))\n",
    "if num%2 == 1 :\n",
    "    print(\"Weird\")\n",
    "elif (num%2 == 0) & (num in range(2,6)):\n",
    "    print(\"Not Weird\")\n",
    "elif (num%2 == 0) & (num in range(6,21)):\n",
    "    print(\"Weird\")\n",
    "elif (num%2 == 0) & (num > 20):\n",
    "    print(\"Not Weird\")"
   ]
  },
  {
   "cell_type": "markdown",
   "metadata": {},
   "source": [
    "\n",
    "## Extra Points\n",
    "- - -"
   ]
  },
  {
   "cell_type": "markdown",
   "metadata": {},
   "source": [
    "1. ***Optional Exercise (Extra Points)***. Write a Python program to reverse a string."
   ]
  },
  {
   "cell_type": "raw",
   "metadata": {},
   "source": [
    "Sample String : \"1234abcd\"\n",
    "Expected Output : \"dcba4321\""
   ]
  },
  {
   "cell_type": "code",
   "execution_count": 9,
   "metadata": {},
   "outputs": [
    {
     "name": "stdout",
     "output_type": "stream",
     "text": [
      "dcba4321\n"
     ]
    }
   ],
   "source": [
    "s_str = \"1234abcd\"\n",
    "lst_str = list(s_str)\n",
    "lst_str.reverse()\n",
    "print(''.join(lst_str))"
   ]
  },
  {
   "cell_type": "markdown",
   "metadata": {},
   "source": [
    "2. ***Optional Exercise (Extra Points)***. Write a Python function to multiply all the numbers in a list. "
   ]
  },
  {
   "cell_type": "raw",
   "metadata": {},
   "source": [
    "Sample List : (8, 2, 3, -1, 7)\n",
    "Expected Output : -336"
   ]
  },
  {
   "cell_type": "code",
   "execution_count": 14,
   "metadata": {},
   "outputs": [
    {
     "name": "stdout",
     "output_type": "stream",
     "text": [
      "-336\n"
     ]
    }
   ],
   "source": [
    "def mul_lst(lst):\n",
    "    res = 1\n",
    "    for s in lst:\n",
    "        res = res*s\n",
    "    return print(res)\n",
    "\n",
    "s_lst = [8,2,3,-1,7]\n",
    "mul_lst(s_lst)\n"
   ]
  },
  {
   "cell_type": "markdown",
   "metadata": {},
   "source": [
    "3. ***Optional Exercise (Extra Points)***. Write a Python function that accepts a string and calculate the number of upper case letters and lower case letters."
   ]
  },
  {
   "cell_type": "raw",
   "metadata": {},
   "source": [
    "Sample String : 'The quick Brow Fox'\n",
    "Expected Output :\n",
    "No. of Upper case characters : 3\n",
    "No. of Lower case Characters : 12"
   ]
  },
  {
   "cell_type": "code",
   "execution_count": 15,
   "metadata": {},
   "outputs": [
    {
     "name": "stdout",
     "output_type": "stream",
     "text": [
      "No. of Upper case characters : 3\n",
      "No. of Lower case characters : 12\n"
     ]
    }
   ],
   "source": [
    "import re\n",
    "\n",
    "def letterCaseCnt(in_str):\n",
    "    \n",
    "    cnt_up = len(re.findall('[A-Z]',in_str))\n",
    "    cnt_lo = len(re.findall('[a-z]',in_str))\n",
    "    \n",
    "    print(\"No. of Upper case characters : {}\".format(cnt_up))\n",
    "    print(\"No. of Lower case characters : {}\".format(cnt_lo))\n",
    "    \n",
    "    return\n",
    "\n",
    "try_str = 'The quick Brow Fox'\n",
    "letterCaseCnt(try_str)"
   ]
  },
  {
   "cell_type": "markdown",
   "metadata": {},
   "source": [
    "- - -\n",
    "\n",
    "Copyright © 2020 Qualex Consulting Services Incorporated."
   ]
  }
 ],
 "metadata": {
  "kernelspec": {
   "display_name": "Python 3",
   "language": "python",
   "name": "python3"
  },
  "language_info": {
   "codemirror_mode": {
    "name": "ipython",
    "version": 3
   },
   "file_extension": ".py",
   "mimetype": "text/x-python",
   "name": "python",
   "nbconvert_exporter": "python",
   "pygments_lexer": "ipython3",
   "version": "3.7.4"
  }
 },
 "nbformat": 4,
 "nbformat_minor": 4
}
