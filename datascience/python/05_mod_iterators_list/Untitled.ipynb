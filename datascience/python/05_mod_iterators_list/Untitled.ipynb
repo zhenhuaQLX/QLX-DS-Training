{
 "cells": [
  {
   "cell_type": "code",
   "execution_count": null,
   "metadata": {},
   "outputs": [],
   "source": []
  },
  {
   "cell_type": "markdown",
   "metadata": {},
   "source": [
    "Data Science Fundamentals: Python |\n",
    "[Table of Contents](../index.ipynb)\n",
    "- - - \n",
    "<!--NAVIGATION-->\n",
    "Module 2. Python Iterators ^ | **[Simple Types](./01_simple_types.ipynb)** | [Data Structures](./02_data_structures.ipynb) | [Exercises](./03_data_exercises.ipynb)"
   ]
  },
  {
   "cell_type": "markdown",
   "metadata": {},
   "source": [
    "<a id=\"Exercises-operations\"></a>\n",
    "Exercises\n",
    "---\n",
    "#### Working List\n",
    "- Make a list that includes four careers, such as 'programmer' and 'truck driver'.\n",
    "- Use the *list.index()* function to find the index of one career in your list.\n",
    "- Use the *in* function to show that this career is in your list.\n",
    "- Use the *append()* function to add a new career to your list.\n",
    "- Use the *insert()* function to add a new career at the beginning of the list.\n",
    "- Use a loop to show all the careers in your list.\n",
    "\n",
    "#### Starting From Empty\n",
    "- Create the list you ended up with in *Working List*, but this time start your file with an empty list and fill it up using *append()* statements.\n",
    "- Print a statement that tells us what the first career you thought of was.\n",
    "- Print a statement that tells us what the last career you thought of was.\n",
    "\n",
    "#### Ordered Working List\n",
    "- Start with the list you created in *Working List*.\n",
    "- You are going to print out the list in a number of different orders.\n",
    "- Each time you print the list, use a for loop rather than printing the raw list.\n",
    "- Print a message each time telling us what order we should see the list in.\n",
    "    - Print the list in its original order.\n",
    "    - Print the list in alphabetical order.\n",
    "    - Print the list in its original order.\n",
    "    - Print the list in reverse alphabetical order.\n",
    "    - Print the list in its original order.\n",
    "    - Print the list in the reverse order from what it started.\n",
    "    - Print the list in its original order\n",
    "    - Permanently sort the list in alphabetical order, and then print it out.\n",
    "    - Permanently sort the list in reverse alphabetical order, and then print it out.\n",
    "\n",
    "#### Ordered Numbers\n",
    "- Make a list of 5 numbers, in a random order.\n",
    "- You are going to print out the list in a number of different orders.\n",
    "- Each time you print the list, use a for loop rather than printing the raw list.\n",
    "- Print a message each time telling us what order we should see the list in.\n",
    "    - Print the numbers in the original order.\n",
    "    - Print the numbers in increasing order.\n",
    "    - Print the numbers in the original order.\n",
    "    - Print the numbers in decreasing order.\n",
    "    - Print the numbers in their original order.\n",
    "    - Print the numbers in the reverse order from how they started.\n",
    "    - Print the numbers in the original order.\n",
    "    - Permanently sort the numbers in increasing order, and then print them out.\n",
    "    - Permanently sort the numbers in descreasing order, and then print them out.\n",
    "\n",
    "#### List Lengths\n",
    "- Copy two or three of the lists you made from the previous exercises, or make up two or three new lists.\n",
    "- Print out a series of statements that tell us how long each list is."
   ]
  },
  {
   "cell_type": "code",
   "execution_count": null,
   "metadata": {},
   "outputs": [],
   "source": []
  }
 ],
 "metadata": {
  "kernelspec": {
   "display_name": "Python 3",
   "language": "python",
   "name": "python3"
  },
  "language_info": {
   "codemirror_mode": {
    "name": "ipython",
    "version": 3
   },
   "file_extension": ".py",
   "mimetype": "text/x-python",
   "name": "python",
   "nbconvert_exporter": "python",
   "pygments_lexer": "ipython3",
   "version": "3.7.7"
  }
 },
 "nbformat": 4,
 "nbformat_minor": 4
}
