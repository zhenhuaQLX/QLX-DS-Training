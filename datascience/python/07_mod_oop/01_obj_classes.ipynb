{
 "cells": [
  {
   "cell_type": "markdown",
   "metadata": {
    "colab_type": "text",
    "id": "ckl7mcSK4JJm"
   },
   "source": [
    "Data Science Fundamentals: Python |\n",
    "[Table of Contents](../index.ipynb)\n",
    "- - - \n",
    "<!--NAVIGATION-->\n",
    "Module 7. | **[Objects and Classes](./01_obj_classes.ipynb)** | [Examples of Objects and Classes](./02_ex_obj_classes.ipynb) | [Exercises](./03_obj_classes_exercises.ipynb)"
   ]
  },
  {
   "cell_type": "markdown",
   "metadata": {
    "colab_type": "text",
    "id": "SQmtXVO_4JKR"
   },
   "source": [
    "# Objects and classes"
   ]
  },
  {
   "cell_type": "code",
   "execution_count": 2,
   "metadata": {},
   "outputs": [
    {
     "data": {
      "text/html": [
       "<iframe width=\"560\" height=\"315\" src=\"https://www.youtube.com/embed/ZDa-Z5JzLYM?rel=0&amp;controls=0&amp;showinfo=0\" frameborder=\"0\" allowfullscreen></iframe>"
      ],
      "text/plain": [
       "<IPython.core.display.HTML object>"
      ]
     },
     "execution_count": 2,
     "metadata": {},
     "output_type": "execute_result"
    }
   ],
   "source": [
    "from IPython.display import HTML\n",
    "\n",
    "# Youtube\n",
    "HTML('<iframe width=\"560\" height=\"315\" src=\"https://www.youtube.com/embed/ZDa-Z5JzLYM?rel=0&amp;controls=0&amp;showinfo=0\" frameborder=\"0\" allowfullscreen></iframe>')\n"
   ]
  },
  {
   "cell_type": "markdown",
   "metadata": {
    "colab_type": "text",
    "id": "-zCKRBMq4JKS"
   },
   "source": [
    "Python is an object-oriented programming language like Java\n",
    "and C++.\n",
    "But unlike Java, Python doesn’t force you to use classes,\n",
    "inheritance and methods.\n",
    "If you like, you can also choose the structural programming\n",
    "paradigm with functions and modules.\n",
    "\n",
    "Every value in Python is an object.\n",
    "Objects are a way to combine data and the functions that\n",
    "handle that data.\n",
    "This combination is called *encapsulation*.\n",
    "The data items and functions of objects are called *attributes*,\n",
    "and in particular the function attributes are called *methods*.\n",
    "For example, the operator `+` on integers calls a method of\n",
    "integers, and the operator `+` on strings calls a method of\n",
    "strings.\n",
    "\n",
    "Functions, modules, methods, classes, etc are all first class\n",
    "objects. This means that these objects can be\n",
    "\n",
    "* stored in a container\n",
    "* passed to a function as a parameter\n",
    "* returned by a function\n",
    "* bound to a variable\n",
    "\n",
    "One can access an attribute of an object using the *dot\n",
    "operator*: `object.attribute`.\n",
    "For example: if `L` is a list, we can refer to the method `append`\n",
    "with `L.append`. The method call can look, for instance, like\n",
    "this: `L.append(4)`.\n",
    "Because also modules are objects in Python, we can interpret\n",
    "the expression `math.pi` as accessing the data attribute `pi` of\n",
    "module object `math`.\n",
    "\n",
    "Numbers like 2 and 100 are instances of type `int`. Similarly,\n",
    "`\"hello\"` is an instance of type `str`.\n",
    "When we write `s=set()`, we are actually creating a new\n",
    "instance of type `set`, and bind the resulting instance object to\n",
    "`s`.\n",
    "\n",
    "A user can define his own data types.\n",
    "These are called *classes*.\n",
    "A user can call these classes like they were functions, and they\n",
    "return a new instance object of that type.\n",
    "Classes can be thought as recipes for creating objects.\n",
    "\n",
    "An example of class definition:\n",
    "```python\n",
    "class MyClass(object):\n",
    "    \"\"\"Documentation string of the class\"\"\"\n",
    "\n",
    "    def __init__(self, param1, param2):\n",
    "        \"This initialises an instance of type ClassName\"\n",
    "        self.b = param1 # creates an instance attribute\n",
    "        c = param2      # creates a local variable of the function\n",
    "        # statements ...\n",
    "    \n",
    "    def f(self, param1):\n",
    "        \"\"\"This is a method of the class\"\"\"\n",
    "        # some statements\n",
    "    \n",
    "    a=1 # This creates a class attribute\n",
    "```\n",
    "\n",
    "The class definition starts with the `class` statement.\n",
    "With this statement you give a name for your new type, and\n",
    "also in parentheses list the base classes of your class.\n",
    "The next indented block is the *class body*.\n",
    "After the whole class body is read, a new type is created.\n",
    "Note that no instances are created yet.\n",
    "All the attributes and methods of the class are defined in the\n",
    "class body.\n",
    "\n",
    "The example class has two methods: `__init__` and `f`.\n",
    "Note that their first parameter is special: `self`. It\n",
    "corresponds to `this` variable of C++ or Java.\n",
    "`__init__`\n",
    "does the initialisation when an instance is created.\n",
    "At instantiation with `i=MyClass(2,3)` the parameters\n",
    "`param1` and `param2` are bound to values 2 and 3, respectively.\n",
    "Now that we have an instance `i`, we can call its method `f`\n",
    "with the dot operator: `i.f(1)`.\n",
    "The parameters of `f` are bound in the following way:\n",
    "`self=i` and `param1=1`.\n",
    "\n",
    "There are differences in how an assignment inside a class body\n",
    "creates variables.\n",
    "The attribute `a` is at class level and is common for all\n",
    "instances of the class `MyClass`.\n",
    "The variable `c` is a local variable of the function `__init__`, and\n",
    "cannot therefore be used outside the function.\n",
    "The attribute `b` is specific to each instance of `MyClass`. Note\n",
    "that `self` refers to the current instance.\n",
    "An example: for objects `x=MyClass(1,0)` and\n",
    "`y=MyClass(2,0)` we have `x.b != y.b`, but `x.a == y.a`.\n",
    "\n",
    "All methods of a class have a mandatory first parameter which\n",
    "refers to the instance on which you called the method.\n",
    "This parameter is usually named `self`.\n",
    "If you want to access the class attribute `a` from a method of\n",
    "the class, use the fully qualified form `MyClass.a`.\n",
    "The methods whose names both begin and end with two\n",
    "underscores are called *special methods*. For example, `__init__`\n",
    "is a special method. These methods will be discussed in detail\n",
    "later.\n",
    "\n",
    "### Instances\n",
    "\n",
    "We can create instances by calling a class like it were a\n",
    "function: `i = ClassName(...)`.\n",
    "Then parameters given in the call will be passed to the\n",
    "`__init__` function.\n",
    "In the `__init__` method you can create the instance specific\n",
    "attributes.\n",
    "If `__init__` is missing, we can create an instance without\n",
    "giving any parameters. As a consequence, the instance has no\n",
    "attributes.\n",
    "Later you can (re)bind attributes with the assignment\n",
    "`instance.attribute = new value`.\n",
    "\n",
    "If that attribute did not exist before, it will be added to the\n",
    "instance with the assigned value.\n",
    "In Python we really can add or delete attributes to/from an\n",
    "existing instance.\n",
    "This is possible because the attribute names and the\n",
    "corresponding values are actually stored in a dictionary.\n",
    "This dictionary is also an attribute of the instance and is\n",
    "called `dict`.\n",
    "Another standard attribute in addition to dict is called\n",
    "`__class__`. This attribute stores the class of the instance.\n",
    "That is, the type of the object"
   ]
  },
  {
   "cell_type": "markdown",
   "metadata": {
    "colab_type": "text",
    "id": "0V_rBsov4JKS"
   },
   "source": [
    "### Attribute lookup\n",
    "\n",
    "Suppose `x` is an instance of class `X`, and we want to read an\n",
    "attribute `x.a`.\n",
    "The lookup has three phases:\n",
    "\n",
    "* First it is checked whether the attribute `a` is an attribute of\n",
    "the instance `x`\n",
    "* If not, then it is checked whether `a` is a class attribute of `x`’s\n",
    "class `X`\n",
    "* If not, then the base classes of `X` are checked\n",
    "\n",
    "If instead we want to bind the attribute `a`, things are much\n",
    "simpler.\n",
    "`x.a = value` will set the instance attribute.\n",
    "And `X.a = value` will set the class attribute.\n",
    "Note that if a base of `X`, the class `X`, and the instance `x` each\n",
    "have an attribute called `a`, then `x.a` hides `X.a`, and `X.a` hides\n",
    "the attribute of the base class."
   ]
  },
  {
   "cell_type": "markdown",
   "metadata": {
    "colab_type": "text",
    "id": "a3xx5Nfv4JKT"
   },
   "source": [
    "#### <div class=\"alert alert-info\">Group Exercise 1 (prepend)</div>\n",
    "\n",
    "Create a class called `Prepend`. We create an instance of the class by giving a string as a parameter\n",
    "to the initializer. The initializer stores the parameter in an instance attribute `start`. The class\n",
    "also has a method `write(s)` which prints the string `s` prepended with the `start` string.\n",
    "An example of usage:\n",
    "```python\n",
    "p = Prepend(\"+++ \")\n",
    "p.write(\"Hello\");\n",
    "```\n",
    "Will print\n",
    "```\n",
    "+++ Hello\n",
    "```\n",
    "\n",
    "Try out using the class from the `main` function.\n",
    "<hr/>"
   ]
  },
  {
   "cell_type": "code",
   "execution_count": 1,
   "metadata": {},
   "outputs": [
    {
     "name": "stdout",
     "output_type": "stream",
     "text": [
      "File1 __name__ = __main__\n",
      "File1 is being run directly\n"
     ]
    }
   ],
   "source": [
    "# showing main function\n",
    "# File1.py \n",
    "\n",
    "print(\"File1 __name__ = %s\" %__name__)\n",
    "  \n",
    "if __name__ == \"__main__\": \n",
    "    print(\"File1 is being run directly\")\n",
    "else: \n",
    "    print(\"File1 is being imported\")"
   ]
  },
  {
   "cell_type": "code",
   "execution_count": 2,
   "metadata": {},
   "outputs": [
    {
     "name": "stdout",
     "output_type": "stream",
     "text": [
      "File1 __name__ = file1\n",
      "File1 is being imported\n"
     ]
    }
   ],
   "source": [
    "import file1"
   ]
  },
  {
   "cell_type": "code",
   "execution_count": 12,
   "metadata": {},
   "outputs": [
    {
     "name": "stdout",
     "output_type": "stream",
     "text": [
      "+++ Hello\n"
     ]
    }
   ],
   "source": [
    "#!/usr/bin/env python\n",
    "# -*- coding: utf-8 -*-\n",
    "s = \"Hello\"\n",
    "t = \"+++ \"\n",
    "u = t + s  # by concatenation\n",
    "print(u)"
   ]
  },
  {
   "cell_type": "code",
   "execution_count": null,
   "metadata": {},
   "outputs": [],
   "source": [
    "class Prepend(object):\n",
    "    \"\"\"Documentation string of the class\"\"\n",
    "\n",
    "    def __init__(self, param1, param2):\n",
    "        \"This initialises an instance of type ClassName\"\n",
    "        self.b = param1 # creates an instance attribute\n",
    "        c = param2      # creates a local variable of the function\n",
    "\n",
    "    def f(self, param1):\n",
    "        \"\"\"This is a method of the class\"\"\"\n",
    "        # some statements\n",
    "\n",
    "    a=1 # This creates a class attribute"
   ]
  },
  {
   "cell_type": "markdown",
   "metadata": {
    "colab_type": "text",
    "id": "c9w4NM514JK0"
   },
   "source": [
    "- - -\n",
    "<!--NAVIGATION-->\n",
    "Module 7. | **[Objects and Classes](./01_obj_classes.ipynb)** | [Examples of Objects and Classes](./02_ex_obj_classes.ipynb) | [Exercises](./03_obj_classes_exercises.ipynb)\n",
    "<br>\n",
    "[Top](#)"
   ]
  },
  {
   "cell_type": "markdown",
   "metadata": {},
   "source": [
    "- - -\n",
    "\n",
    "Copyright © 2020 Qualex Consulting Services Incorporated."
   ]
  },
  {
   "cell_type": "code",
   "execution_count": null,
   "metadata": {},
   "outputs": [],
   "source": []
  }
 ],
 "metadata": {
  "colab": {
   "name": "basics2.ipynb",
   "provenance": []
  },
  "kernelspec": {
   "display_name": "Python 3",
   "language": "python",
   "name": "python3"
  },
  "language_info": {
   "codemirror_mode": {
    "name": "ipython",
    "version": 3
   },
   "file_extension": ".py",
   "mimetype": "text/x-python",
   "name": "python",
   "nbconvert_exporter": "python",
   "pygments_lexer": "ipython3",
   "version": "3.7.4"
  },
  "varInspector": {
   "cols": {
    "lenName": 16,
    "lenType": 16,
    "lenVar": 40
   },
   "kernels_config": {
    "python": {
     "delete_cmd_postfix": "",
     "delete_cmd_prefix": "del ",
     "library": "var_list.py",
     "varRefreshCmd": "print(var_dic_list())"
    },
    "r": {
     "delete_cmd_postfix": ") ",
     "delete_cmd_prefix": "rm(",
     "library": "var_list.r",
     "varRefreshCmd": "cat(var_dic_list()) "
    }
   },
   "types_to_exclude": [
    "module",
    "function",
    "builtin_function_or_method",
    "instance",
    "_Feature"
   ],
   "window_display": false
  }
 },
 "nbformat": 4,
 "nbformat_minor": 1
}
