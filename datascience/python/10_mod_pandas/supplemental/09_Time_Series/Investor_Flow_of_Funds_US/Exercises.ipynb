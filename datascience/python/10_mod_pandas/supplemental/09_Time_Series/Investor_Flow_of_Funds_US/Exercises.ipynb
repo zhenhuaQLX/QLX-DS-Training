{
 "cells": [
  {
   "cell_type": "markdown",
   "metadata": {},
   "source": [
    "# Investor - Flow of Funds - US"
   ]
  },
  {
   "cell_type": "markdown",
   "metadata": {},
   "source": [
    "### Introduction:\n",
    "\n",
    "Special thanks to: https://github.com/rgrp for sharing the dataset.\n",
    "\n",
    "### Step 1. Import the necessary libraries"
   ]
  },
  {
   "cell_type": "code",
   "execution_count": 2,
   "metadata": {},
   "outputs": [],
   "source": [
    "import pandas as pd\n",
    "import numpy as np"
   ]
  },
  {
   "cell_type": "markdown",
   "metadata": {},
   "source": [
    "### Step 2. Import the dataset from this [address](https://raw.githubusercontent.com/datasets/investor-flow-of-funds-us/master/data/weekly.csv). "
   ]
  },
  {
   "cell_type": "markdown",
   "metadata": {},
   "source": [
    "### Step 3. Assign it to a variable called "
   ]
  },
  {
   "cell_type": "code",
   "execution_count": 3,
   "metadata": {},
   "outputs": [
    {
     "data": {
      "text/html": [
       "<div>\n",
       "<style scoped>\n",
       "    .dataframe tbody tr th:only-of-type {\n",
       "        vertical-align: middle;\n",
       "    }\n",
       "\n",
       "    .dataframe tbody tr th {\n",
       "        vertical-align: top;\n",
       "    }\n",
       "\n",
       "    .dataframe thead th {\n",
       "        text-align: right;\n",
       "    }\n",
       "</style>\n",
       "<table border=\"1\" class=\"dataframe\">\n",
       "  <thead>\n",
       "    <tr style=\"text-align: right;\">\n",
       "      <th></th>\n",
       "      <th>Date</th>\n",
       "      <th>Total Equity</th>\n",
       "      <th>Domestic Equity</th>\n",
       "      <th>World Equity</th>\n",
       "      <th>Hybrid</th>\n",
       "      <th>Total Bond</th>\n",
       "      <th>Taxable Bond</th>\n",
       "      <th>Municipal Bond</th>\n",
       "      <th>Total</th>\n",
       "    </tr>\n",
       "  </thead>\n",
       "  <tbody>\n",
       "    <tr>\n",
       "      <td>0</td>\n",
       "      <td>2012-12-05</td>\n",
       "      <td>-7426</td>\n",
       "      <td>-6060</td>\n",
       "      <td>-1367</td>\n",
       "      <td>-74</td>\n",
       "      <td>5317</td>\n",
       "      <td>4210</td>\n",
       "      <td>1107</td>\n",
       "      <td>-2183</td>\n",
       "    </tr>\n",
       "    <tr>\n",
       "      <td>1</td>\n",
       "      <td>2012-12-12</td>\n",
       "      <td>-8783</td>\n",
       "      <td>-7520</td>\n",
       "      <td>-1263</td>\n",
       "      <td>123</td>\n",
       "      <td>1818</td>\n",
       "      <td>1598</td>\n",
       "      <td>219</td>\n",
       "      <td>-6842</td>\n",
       "    </tr>\n",
       "    <tr>\n",
       "      <td>2</td>\n",
       "      <td>2012-12-19</td>\n",
       "      <td>-5496</td>\n",
       "      <td>-5470</td>\n",
       "      <td>-26</td>\n",
       "      <td>-73</td>\n",
       "      <td>103</td>\n",
       "      <td>3472</td>\n",
       "      <td>-3369</td>\n",
       "      <td>-5466</td>\n",
       "    </tr>\n",
       "    <tr>\n",
       "      <td>3</td>\n",
       "      <td>2012-12-26</td>\n",
       "      <td>-4451</td>\n",
       "      <td>-4076</td>\n",
       "      <td>-375</td>\n",
       "      <td>550</td>\n",
       "      <td>2610</td>\n",
       "      <td>3333</td>\n",
       "      <td>-722</td>\n",
       "      <td>-1291</td>\n",
       "    </tr>\n",
       "    <tr>\n",
       "      <td>4</td>\n",
       "      <td>2013-01-02</td>\n",
       "      <td>-11156</td>\n",
       "      <td>-9622</td>\n",
       "      <td>-1533</td>\n",
       "      <td>-158</td>\n",
       "      <td>2383</td>\n",
       "      <td>2103</td>\n",
       "      <td>280</td>\n",
       "      <td>-8931</td>\n",
       "    </tr>\n",
       "  </tbody>\n",
       "</table>\n",
       "</div>"
      ],
      "text/plain": [
       "         Date  Total Equity  Domestic Equity  World Equity  Hybrid  \\\n",
       "0  2012-12-05         -7426            -6060         -1367     -74   \n",
       "1  2012-12-12         -8783            -7520         -1263     123   \n",
       "2  2012-12-19         -5496            -5470           -26     -73   \n",
       "3  2012-12-26         -4451            -4076          -375     550   \n",
       "4  2013-01-02        -11156            -9622         -1533    -158   \n",
       "\n",
       "   Total Bond  Taxable Bond  Municipal Bond  Total  \n",
       "0        5317          4210            1107  -2183  \n",
       "1        1818          1598             219  -6842  \n",
       "2         103          3472           -3369  -5466  \n",
       "3        2610          3333            -722  -1291  \n",
       "4        2383          2103             280  -8931  "
      ]
     },
     "execution_count": 3,
     "metadata": {},
     "output_type": "execute_result"
    }
   ],
   "source": [
    "url = 'https://raw.githubusercontent.com/datasets/investor-flow-of-funds-us/master/data/weekly.csv'\n",
    "fund = pd.read_csv(url)\n",
    "fund.head()"
   ]
  },
  {
   "cell_type": "markdown",
   "metadata": {},
   "source": [
    "### Step 4.  What is the frequency of the dataset?"
   ]
  },
  {
   "cell_type": "code",
   "execution_count": null,
   "metadata": {},
   "outputs": [],
   "source": []
  },
  {
   "cell_type": "markdown",
   "metadata": {},
   "source": [
    "### Step 5. Set the column Date as the index."
   ]
  },
  {
   "cell_type": "code",
   "execution_count": 4,
   "metadata": {},
   "outputs": [],
   "source": [
    "fund = fund.set_index('Date')"
   ]
  },
  {
   "cell_type": "markdown",
   "metadata": {},
   "source": [
    "### Step 6. What is the type of the index?"
   ]
  },
  {
   "cell_type": "code",
   "execution_count": 6,
   "metadata": {},
   "outputs": [
    {
     "data": {
      "text/plain": [
       "Index(['2012-12-05', '2012-12-12', '2012-12-19', '2012-12-26', '2013-01-02',\n",
       "       '2013-01-09', '2014-04-02', '2014-04-09', '2014-04-16', '2014-04-23',\n",
       "       '2014-04-30', '2014-05-07', '2014-05-14', '2014-05-21', '2014-05-28',\n",
       "       '2014-06-04', '2014-06-11', '2014-06-18', '2014-06-25', '2014-07-02',\n",
       "       '2014-07-09', '2014-07-30', '2014-08-06', '2014-08-13', '2014-08-20',\n",
       "       '2014-08-27', '2014-09-03', '2014-09-10', '2014-11-05', '2014-11-12',\n",
       "       '2014-11-19', '2014-11-25', '2015-01-07', '2015-01-14', '2015-01-21',\n",
       "       '2015-01-28', '2015-02-04', '2015-02-11', '2015-03-04', '2015-03-11',\n",
       "       '2015-03-18', '2015-03-25', '2015-04-01', '2015-04-08'],\n",
       "      dtype='object', name='Date')"
      ]
     },
     "execution_count": 6,
     "metadata": {},
     "output_type": "execute_result"
    }
   ],
   "source": [
    "fund.index"
   ]
  },
  {
   "cell_type": "markdown",
   "metadata": {},
   "source": [
    "### Step 7. Set the index to a DatetimeIndex type"
   ]
  },
  {
   "cell_type": "code",
   "execution_count": 7,
   "metadata": {},
   "outputs": [
    {
     "data": {
      "text/plain": [
       "DatetimeIndex(['2012-12-05', '2012-12-12', '2012-12-19', '2012-12-26',\n",
       "               '2013-01-02', '2013-01-09', '2014-04-02', '2014-04-09',\n",
       "               '2014-04-16', '2014-04-23', '2014-04-30', '2014-05-07',\n",
       "               '2014-05-14', '2014-05-21', '2014-05-28', '2014-06-04',\n",
       "               '2014-06-11', '2014-06-18', '2014-06-25', '2014-07-02',\n",
       "               '2014-07-09', '2014-07-30', '2014-08-06', '2014-08-13',\n",
       "               '2014-08-20', '2014-08-27', '2014-09-03', '2014-09-10',\n",
       "               '2014-11-05', '2014-11-12', '2014-11-19', '2014-11-25',\n",
       "               '2015-01-07', '2015-01-14', '2015-01-21', '2015-01-28',\n",
       "               '2015-02-04', '2015-02-11', '2015-03-04', '2015-03-11',\n",
       "               '2015-03-18', '2015-03-25', '2015-04-01', '2015-04-08'],\n",
       "              dtype='datetime64[ns]', name='Date', freq=None)"
      ]
     },
     "execution_count": 7,
     "metadata": {},
     "output_type": "execute_result"
    }
   ],
   "source": [
    "fund.index = pd.to_datetime(fund.index)\n",
    "fund.index"
   ]
  },
  {
   "cell_type": "markdown",
   "metadata": {},
   "source": [
    "### Step 8.  Change the frequency to monthly, sum the values and assign it to monthly."
   ]
  },
  {
   "cell_type": "code",
   "execution_count": 10,
   "metadata": {},
   "outputs": [
    {
     "data": {
      "text/html": [
       "<div>\n",
       "<style scoped>\n",
       "    .dataframe tbody tr th:only-of-type {\n",
       "        vertical-align: middle;\n",
       "    }\n",
       "\n",
       "    .dataframe tbody tr th {\n",
       "        vertical-align: top;\n",
       "    }\n",
       "\n",
       "    .dataframe thead th {\n",
       "        text-align: right;\n",
       "    }\n",
       "</style>\n",
       "<table border=\"1\" class=\"dataframe\">\n",
       "  <thead>\n",
       "    <tr style=\"text-align: right;\">\n",
       "      <th></th>\n",
       "      <th>Total Equity</th>\n",
       "      <th>Domestic Equity</th>\n",
       "      <th>World Equity</th>\n",
       "      <th>Hybrid</th>\n",
       "      <th>Total Bond</th>\n",
       "      <th>Taxable Bond</th>\n",
       "      <th>Municipal Bond</th>\n",
       "      <th>Total</th>\n",
       "    </tr>\n",
       "    <tr>\n",
       "      <th>Date</th>\n",
       "      <th></th>\n",
       "      <th></th>\n",
       "      <th></th>\n",
       "      <th></th>\n",
       "      <th></th>\n",
       "      <th></th>\n",
       "      <th></th>\n",
       "      <th></th>\n",
       "    </tr>\n",
       "  </thead>\n",
       "  <tbody>\n",
       "    <tr>\n",
       "      <td>2012-12-31</td>\n",
       "      <td>-26156</td>\n",
       "      <td>-23126</td>\n",
       "      <td>-3031</td>\n",
       "      <td>526</td>\n",
       "      <td>9848</td>\n",
       "      <td>12613</td>\n",
       "      <td>-2765</td>\n",
       "      <td>-15782</td>\n",
       "    </tr>\n",
       "    <tr>\n",
       "      <td>2013-01-31</td>\n",
       "      <td>3661</td>\n",
       "      <td>-1627</td>\n",
       "      <td>5288</td>\n",
       "      <td>2730</td>\n",
       "      <td>12149</td>\n",
       "      <td>9414</td>\n",
       "      <td>2735</td>\n",
       "      <td>18540</td>\n",
       "    </tr>\n",
       "    <tr>\n",
       "      <td>2013-02-28</td>\n",
       "      <td>0</td>\n",
       "      <td>0</td>\n",
       "      <td>0</td>\n",
       "      <td>0</td>\n",
       "      <td>0</td>\n",
       "      <td>0</td>\n",
       "      <td>0</td>\n",
       "      <td>0</td>\n",
       "    </tr>\n",
       "    <tr>\n",
       "      <td>2013-03-31</td>\n",
       "      <td>0</td>\n",
       "      <td>0</td>\n",
       "      <td>0</td>\n",
       "      <td>0</td>\n",
       "      <td>0</td>\n",
       "      <td>0</td>\n",
       "      <td>0</td>\n",
       "      <td>0</td>\n",
       "    </tr>\n",
       "    <tr>\n",
       "      <td>2013-04-30</td>\n",
       "      <td>0</td>\n",
       "      <td>0</td>\n",
       "      <td>0</td>\n",
       "      <td>0</td>\n",
       "      <td>0</td>\n",
       "      <td>0</td>\n",
       "      <td>0</td>\n",
       "      <td>0</td>\n",
       "    </tr>\n",
       "  </tbody>\n",
       "</table>\n",
       "</div>"
      ],
      "text/plain": [
       "            Total Equity  Domestic Equity  World Equity  Hybrid  Total Bond  \\\n",
       "Date                                                                          \n",
       "2012-12-31        -26156           -23126         -3031     526        9848   \n",
       "2013-01-31          3661            -1627          5288    2730       12149   \n",
       "2013-02-28             0                0             0       0           0   \n",
       "2013-03-31             0                0             0       0           0   \n",
       "2013-04-30             0                0             0       0           0   \n",
       "\n",
       "            Taxable Bond  Municipal Bond  Total  \n",
       "Date                                             \n",
       "2012-12-31         12613           -2765 -15782  \n",
       "2013-01-31          9414            2735  18540  \n",
       "2013-02-28             0               0      0  \n",
       "2013-03-31             0               0      0  \n",
       "2013-04-30             0               0      0  "
      ]
     },
     "execution_count": 10,
     "metadata": {},
     "output_type": "execute_result"
    }
   ],
   "source": [
    "monthly_fund = fund.resample('M').sum()\n",
    "monthly_fund.head()"
   ]
  },
  {
   "cell_type": "markdown",
   "metadata": {},
   "source": [
    "### Step 9. You will notice that it filled the dataFrame with months that don't have any data with NaN. Let's drop these rows."
   ]
  },
  {
   "cell_type": "code",
   "execution_count": 13,
   "metadata": {},
   "outputs": [
    {
     "data": {
      "text/html": [
       "<div>\n",
       "<style scoped>\n",
       "    .dataframe tbody tr th:only-of-type {\n",
       "        vertical-align: middle;\n",
       "    }\n",
       "\n",
       "    .dataframe tbody tr th {\n",
       "        vertical-align: top;\n",
       "    }\n",
       "\n",
       "    .dataframe thead th {\n",
       "        text-align: right;\n",
       "    }\n",
       "</style>\n",
       "<table border=\"1\" class=\"dataframe\">\n",
       "  <thead>\n",
       "    <tr style=\"text-align: right;\">\n",
       "      <th>Date</th>\n",
       "      <th>2012-12-31</th>\n",
       "      <th>2013-01-31</th>\n",
       "      <th>2014-04-30</th>\n",
       "      <th>2014-05-31</th>\n",
       "      <th>2014-06-30</th>\n",
       "      <th>2014-07-31</th>\n",
       "      <th>2014-08-31</th>\n",
       "      <th>2014-09-30</th>\n",
       "      <th>2014-11-30</th>\n",
       "      <th>2015-01-31</th>\n",
       "      <th>2015-02-28</th>\n",
       "      <th>2015-03-31</th>\n",
       "      <th>2015-04-30</th>\n",
       "    </tr>\n",
       "  </thead>\n",
       "  <tbody>\n",
       "    <tr>\n",
       "      <td>Total Equity</td>\n",
       "      <td>-26156</td>\n",
       "      <td>3661</td>\n",
       "      <td>10842</td>\n",
       "      <td>-2203</td>\n",
       "      <td>2319</td>\n",
       "      <td>-7051</td>\n",
       "      <td>1943</td>\n",
       "      <td>-2767</td>\n",
       "      <td>-2753</td>\n",
       "      <td>3471</td>\n",
       "      <td>5508</td>\n",
       "      <td>5691</td>\n",
       "      <td>379</td>\n",
       "    </tr>\n",
       "    <tr>\n",
       "      <td>Domestic Equity</td>\n",
       "      <td>-23126</td>\n",
       "      <td>-1627</td>\n",
       "      <td>1048</td>\n",
       "      <td>-8720</td>\n",
       "      <td>-6546</td>\n",
       "      <td>-11128</td>\n",
       "      <td>-5508</td>\n",
       "      <td>-6596</td>\n",
       "      <td>-7239</td>\n",
       "      <td>-1164</td>\n",
       "      <td>3509</td>\n",
       "      <td>-8176</td>\n",
       "      <td>-4628</td>\n",
       "    </tr>\n",
       "    <tr>\n",
       "      <td>World Equity</td>\n",
       "      <td>-3031</td>\n",
       "      <td>5288</td>\n",
       "      <td>9794</td>\n",
       "      <td>6518</td>\n",
       "      <td>8865</td>\n",
       "      <td>4078</td>\n",
       "      <td>7452</td>\n",
       "      <td>3829</td>\n",
       "      <td>4485</td>\n",
       "      <td>4635</td>\n",
       "      <td>1999</td>\n",
       "      <td>13867</td>\n",
       "      <td>5007</td>\n",
       "    </tr>\n",
       "    <tr>\n",
       "      <td>Hybrid</td>\n",
       "      <td>526</td>\n",
       "      <td>2730</td>\n",
       "      <td>4931</td>\n",
       "      <td>3172</td>\n",
       "      <td>4588</td>\n",
       "      <td>2666</td>\n",
       "      <td>1885</td>\n",
       "      <td>1599</td>\n",
       "      <td>729</td>\n",
       "      <td>1729</td>\n",
       "      <td>1752</td>\n",
       "      <td>2829</td>\n",
       "      <td>970</td>\n",
       "    </tr>\n",
       "    <tr>\n",
       "      <td>Total Bond</td>\n",
       "      <td>9848</td>\n",
       "      <td>12149</td>\n",
       "      <td>8493</td>\n",
       "      <td>13767</td>\n",
       "      <td>9715</td>\n",
       "      <td>7506</td>\n",
       "      <td>1897</td>\n",
       "      <td>3984</td>\n",
       "      <td>14528</td>\n",
       "      <td>7368</td>\n",
       "      <td>9099</td>\n",
       "      <td>9138</td>\n",
       "      <td>423</td>\n",
       "    </tr>\n",
       "    <tr>\n",
       "      <td>Taxable Bond</td>\n",
       "      <td>12613</td>\n",
       "      <td>9414</td>\n",
       "      <td>7193</td>\n",
       "      <td>10192</td>\n",
       "      <td>7551</td>\n",
       "      <td>7026</td>\n",
       "      <td>-1013</td>\n",
       "      <td>2479</td>\n",
       "      <td>11566</td>\n",
       "      <td>2762</td>\n",
       "      <td>7443</td>\n",
       "      <td>7267</td>\n",
       "      <td>514</td>\n",
       "    </tr>\n",
       "    <tr>\n",
       "      <td>Municipal Bond</td>\n",
       "      <td>-2765</td>\n",
       "      <td>2735</td>\n",
       "      <td>1300</td>\n",
       "      <td>3576</td>\n",
       "      <td>2163</td>\n",
       "      <td>481</td>\n",
       "      <td>2910</td>\n",
       "      <td>1504</td>\n",
       "      <td>2962</td>\n",
       "      <td>4606</td>\n",
       "      <td>1656</td>\n",
       "      <td>1870</td>\n",
       "      <td>-91</td>\n",
       "    </tr>\n",
       "    <tr>\n",
       "      <td>Total</td>\n",
       "      <td>-15782</td>\n",
       "      <td>18540</td>\n",
       "      <td>24267</td>\n",
       "      <td>14736</td>\n",
       "      <td>16621</td>\n",
       "      <td>3122</td>\n",
       "      <td>5723</td>\n",
       "      <td>2816</td>\n",
       "      <td>12502</td>\n",
       "      <td>12569</td>\n",
       "      <td>16359</td>\n",
       "      <td>17657</td>\n",
       "      <td>1772</td>\n",
       "    </tr>\n",
       "  </tbody>\n",
       "</table>\n",
       "</div>"
      ],
      "text/plain": [
       "Date             2012-12-31  2013-01-31  2014-04-30  2014-05-31  2014-06-30  \\\n",
       "Total Equity         -26156        3661       10842       -2203        2319   \n",
       "Domestic Equity      -23126       -1627        1048       -8720       -6546   \n",
       "World Equity          -3031        5288        9794        6518        8865   \n",
       "Hybrid                  526        2730        4931        3172        4588   \n",
       "Total Bond             9848       12149        8493       13767        9715   \n",
       "Taxable Bond          12613        9414        7193       10192        7551   \n",
       "Municipal Bond        -2765        2735        1300        3576        2163   \n",
       "Total                -15782       18540       24267       14736       16621   \n",
       "\n",
       "Date             2014-07-31  2014-08-31  2014-09-30  2014-11-30  2015-01-31  \\\n",
       "Total Equity          -7051        1943       -2767       -2753        3471   \n",
       "Domestic Equity      -11128       -5508       -6596       -7239       -1164   \n",
       "World Equity           4078        7452        3829        4485        4635   \n",
       "Hybrid                 2666        1885        1599         729        1729   \n",
       "Total Bond             7506        1897        3984       14528        7368   \n",
       "Taxable Bond           7026       -1013        2479       11566        2762   \n",
       "Municipal Bond          481        2910        1504        2962        4606   \n",
       "Total                  3122        5723        2816       12502       12569   \n",
       "\n",
       "Date             2015-02-28  2015-03-31  2015-04-30  \n",
       "Total Equity           5508        5691         379  \n",
       "Domestic Equity        3509       -8176       -4628  \n",
       "World Equity           1999       13867        5007  \n",
       "Hybrid                 1752        2829         970  \n",
       "Total Bond             9099        9138         423  \n",
       "Taxable Bond           7443        7267         514  \n",
       "Municipal Bond         1656        1870         -91  \n",
       "Total                 16359       17657        1772  "
      ]
     },
     "execution_count": 13,
     "metadata": {},
     "output_type": "execute_result"
    }
   ],
   "source": [
    "monthly_fund = monthly_fund[(monthly_fund.T != 0).any()]\n",
    "monthly_fund.T"
   ]
  },
  {
   "cell_type": "markdown",
   "metadata": {},
   "source": [
    "### Step 10. Good, now we have the monthly data. Now change the frequency to year."
   ]
  },
  {
   "cell_type": "code",
   "execution_count": null,
   "metadata": {},
   "outputs": [],
   "source": []
  },
  {
   "cell_type": "markdown",
   "metadata": {},
   "source": [
    "### BONUS: Create your own question and answer it."
   ]
  },
  {
   "cell_type": "code",
   "execution_count": null,
   "metadata": {
    "collapsed": true
   },
   "outputs": [],
   "source": []
  }
 ],
 "metadata": {
  "kernelspec": {
   "display_name": "Python 3",
   "language": "python",
   "name": "python3"
  },
  "language_info": {
   "codemirror_mode": {
    "name": "ipython",
    "version": 3
   },
   "file_extension": ".py",
   "mimetype": "text/x-python",
   "name": "python",
   "nbconvert_exporter": "python",
   "pygments_lexer": "ipython3",
   "version": "3.7.4"
  }
 },
 "nbformat": 4,
 "nbformat_minor": 1
}
