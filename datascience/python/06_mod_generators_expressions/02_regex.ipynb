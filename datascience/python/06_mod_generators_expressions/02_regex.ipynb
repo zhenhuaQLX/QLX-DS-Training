{
 "cells": [
  {
   "cell_type": "markdown",
   "metadata": {
    "colab_type": "text",
    "id": "ckl7mcSK4JJm"
   },
   "source": [
    "Data Science Fundamentals: Python |\n",
    "[Table of Contents](../index.ipynb)\n",
    "- - - \n",
    "<!--NAVIGATION-->\n",
    "Module 6. | [Generators](./01_generators.ipynb) | **[Regular Expressions](./02_regex.ipynb)** | [String Manipulation & Regular Expressions](03_str_manipulate.ipynb) | [Closures & Generators](./04_closures_generators.ipynb) | [Exercises](./05_gen_regex_exercises.ipynb)"
   ]
  },
  {
   "cell_type": "markdown",
   "metadata": {
    "colab_type": "text",
    "id": "CeDr6HXa4JJm"
   },
   "source": [
    "## Regular Expression Generators for Python"
   ]
  },
  {
   "cell_type": "markdown",
   "metadata": {},
   "source": [
    "### [Pyregex](http://www.pyregex.com/)"
   ]
  },
  {
   "cell_type": "markdown",
   "metadata": {},
   "source": [
    "### [Pythex](https://pythex.org/) \n",
    "\n",
    "- - -\n",
    "\n",
    "[Regular Expression Cheatsheet](https://learnbyexample.github.io/cheatsheet/python/python-regex-cheatsheet/)\n",
    "<br>\n",
    "[Regular Expression Operations Documentation](https://docs.python.org/2/library/re.html)"
   ]
  },
  {
   "cell_type": "markdown",
   "metadata": {},
   "source": [
    "## Regular Expressions"
   ]
  },
  {
   "cell_type": "markdown",
   "metadata": {
    "colab_type": "text",
    "id": "nAvFyyd64JJo"
   },
   "source": [
    "### Examples\n",
    "\n",
    "We have already seen that we can ask from a string `str`\n",
    "whether it begins with some substring as follows:\n",
    "`str.startswith('Apple')`.\n",
    "If we would like to know whether it starts with `\"Apple\"` or\n",
    "`\"apple\"`, we would have to call `startswith` method twice.\n",
    "Regular expressions offer a simpler solution:\n",
    "`re.match(r\"[Aa]pple\", str)`.\n",
    "The bracket notation is one example of the special syntax of\n",
    "*regular expressions*. In this case it says that any of the\n",
    "characters inside brackets will do: either `\"A\"` or `\"a\"`. The other\n",
    "letters in `\"pple\"` will act normally. The string `r\"[Aa]pple\"` is\n",
    "called a *pattern*.\n",
    "\n",
    "A more complicated example asks whether the string `str`\n",
    "starts with either `apple` or `banana` (no matter if the first letter\n",
    "is capital or not):\n",
    "`re.match(r\"[Aa]pple|[Bb]anana\", str)`.\n",
    "In this example we saw a new special character `|` that denotes\n",
    "an alternative. On either side of the bar character we have a\n",
    "*subpattern*.\n",
    "\n",
    "A legal variable name in Python starts with a letter or an\n",
    "underline character and the following characters can also be\n",
    "digits.\n",
    "So legal names are, for instance: `_hidden`, `L_value`, `A123_`.\n",
    "But the name `2abc` is not a valid variable name.\n",
    "Let’s see what would be the regular expression pattern to\n",
    "recognise valid variable names:\n",
    "`r\"[A-Za-z_][A-Za-z_0-9]*\\Z\"`.\n",
    "Here we have used a shorthand for character ranges: `A-Z`.\n",
    "This means all the characters from `A` to `Z`.\n",
    "\n",
    "The first character of the variable name is defined in the first\n",
    "brackets. The subsequent characters are defined in the second\n",
    "brackets.\n",
    "The special character `*` means that we allow any number\n",
    "(0,1,2, . . . ) of the previous subpattern. For example the\n",
    "pattern `r\"ba*\"` allows strings `\"b\"`, `\"ba\"`, `\"baa\"`, `\"baaa\"`, and\n",
    "so on.\n",
    "The special syntax `\\Z` denotes the end of the string.\n",
    "Without it we would also accept `abc-` as a valid name since\n",
    "the `match` function normally checks only that a string starts with a pattern.\n",
    "\n",
    "The special notations, like `\\Z`, also cause problems with string\n",
    "handling.\n",
    "Remember that normally in string literals we have some\n",
    "special notation: `\\n` stands for newline, `\\t` stands for tab, and\n",
    "so on.\n",
    "So, both string literals and regular expressions use similar\n",
    "looking notations, which can create serious confusion.\n",
    "This can be solved by using the so-called *raw strings*. We\n",
    "denote a raw string by having an `r` letter before the first\n",
    "quotation mark, for example `r\"ab*\\Z\"`.\n",
    "When using raw strings, the newline (`\\n`), tab (`\\t`), and other\n",
    "special string literal notations aren’t interpreted. One should\n",
    "always use raw strings when defining regular expression\n",
    "patterns!"
   ]
  },
  {
   "cell_type": "markdown",
   "metadata": {
    "colab_type": "text",
    "id": "WL-EXDRr4JJo"
   },
   "source": [
    "### Patterns\n",
    "\n",
    "A pattern represents a set of strings. This set can even be\n",
    "potentially infinite.\n",
    "They can be used to describe a set of strings that have some\n",
    "commonality; some regular structure.\n",
    "Regular expressions (RE) are a classical computer science topic.\n",
    "They are very common in programming tasks. Scripting\n",
    "languages, like Python, are very fluent in regular expressions.\n",
    "Very complex text processing can be achieved using regular\n",
    "expressions.\n",
    "\n",
    "In patterns, normal characters (letters, numbers) just represent\n",
    "themselves, unless preceded by a backslash, which may trigger\n",
    "some special meaning.\n",
    "Punctuation characters have special meaning, unless preceded\n",
    "by backslash (`\\`), which deprives their special meaning.\n",
    "Use `\\\\` to represent a backslash character without any special\n",
    "meaning.\n",
    "In the following slides we will go through some of the more\n",
    "common RE notations.\n",
    "\n",
    "```\n",
    ". Matches any character\n",
    "[...] Matches any character contained within the brackets\n",
    "[^...] Matches any character not appearing after the hat (ˆ)\n",
    "ˆ Matches the start of the string\n",
    "$ Matches the end of the string\n",
    "* Matches zero or more previous RE\n",
    "+ Matches one or more previous RE\n",
    "{m,n} Matches m to n occurences of previous RE\n",
    "? Matches zero or one occurences of previous RE\n",
    "```\n",
    "\n",
    "We have already seen that a `|` character denotes alternatives.\n",
    "For example, the pattern `r\"Get (on|off|ready)\"` matches\n",
    "the following strings: `\"Get on\"`, `\"Get off\"`, `\"Get ready\"`.\n",
    "We can use parentheses to create groupings inside a pattern:\n",
    "`r\"(ab)+\"` will match the strings `\"ab\"`, `\"abab\"`, `\"ababab\"`,\n",
    "and so on.\n",
    "These groups are also given a reference number starting from 1. \n",
    "We can refer to groups using backreferences: `\\number`.\n",
    "For example, we can find separated patterns that get\n",
    "repeated: `r\"([a-z]{3,}) \\1 \\1\"`.\n",
    "This will recognise, for example, the following strings: `\"aca\n",
    "aca aca\"`, `\"turn turn turn\"`. But not the strings `\"aca\n",
    "aba aca\"` or `\"ac ac ac\"`.\n",
    "\n",
    "\n",
    "In the following, note that a hat (ˆ) as the first character\n",
    "inside brackets will create a complement set of characters:\n",
    "\n",
    "```\n",
    "`\\d` same as `[0-9]`, matches a digit\n",
    "`\\D` same as `[ˆ0-9]`, matches anything but a digit\n",
    "`\\s` matches a whitespace character (space, newline, tab, ... )\n",
    "`\\S` matches a nonwhitespace character\n",
    "`\\w` same as `[a-zA-Z0-9_]`, matches one alphanumeric character\n",
    "`\\W` matches one non-alphanumeric character\n",
    "```\n",
    "\n",
    "Using the above notation we can now shorten our previous\n",
    "variable name example to `r’[a-zA-Z_]\\w*\\Z’`\n",
    "\n",
    "The patterns `\\A`, `\\b`, `\\B`, and `\\Z` will all match an empty\n",
    "string, but in specific places.\n",
    "The patterns `\\A` and `\\Z` will recognise the beginning and end\n",
    "of the string, respectively.\n",
    "Note that the patterns `ˆ` and `$` can in some cases match also\n",
    "after a newline and before a newline, correspondingly.\n",
    "So, `\\A` is distinct from `ˆ`, and `\\Z` is distinct from `$`.\n",
    "The pattern `\\b` matches at the start or end of a word. The\n",
    "pattern `\\B` does the reverse."
   ]
  },
  {
   "cell_type": "markdown",
   "metadata": {
    "colab_type": "text",
    "id": "m2XG2faQ4JJp"
   },
   "source": [
    "### Match and search functions\n",
    "\n",
    "We have so far only used the `re.match` function which tries\n",
    "to find a match at the beginning of a string\n",
    "The function `re.search` allows to match any substring of a\n",
    "string.\n",
    "Example: `re.search(r'\\bback\\b', s)` will match\n",
    "strings `\"back\"`, `\"a back, is a body part\"`, `\"get back\"`. But it\n",
    "will not match the strings `\"backspace\"` or `\"comeback\"`.\n",
    "\n",
    "The function `re.search` finds only the first occurence.\n",
    "We can use the `re.findall` function to find all occurences.\n",
    "Let’s say we want to find all present participle words in a\n",
    "string `s`. The present participle words have ending `'ing'`.\n",
    "The function call would look like this:\n",
    "`re.findall(r'\\w+ing\\b', s)`.\n",
    "Let’s try running this:"
   ]
  },
  {
   "cell_type": "code",
   "execution_count": 2,
   "metadata": {
    "colab": {},
    "colab_type": "code",
    "id": "AIsbkC0I4JJp",
    "outputId": "fc7e8c40-d29d-4225-80f3-9fae69b04aa0"
   },
   "outputs": [
    {
     "data": {
      "text/plain": [
       "['Doing', 'going', 'staying', 'sleeping']"
      ]
     },
     "execution_count": 2,
     "metadata": {},
     "output_type": "execute_result"
    }
   ],
   "source": [
    "import re\n",
    "s = \"Doing things, going home, staying awake, sleeping later\"\n",
    "re.findall(r'\\w+ing\\b', s)"
   ]
  },
  {
   "cell_type": "markdown",
   "metadata": {
    "colab_type": "text",
    "id": "lroKuJx94JJt"
   },
   "source": [
    "Let’s say we want to pick up all the integers from a string.\n",
    "We can try that with the following function call:\n",
    "`re.findall(r'[+-]?\\d+', s)`.\n",
    "An example run:"
   ]
  },
  {
   "cell_type": "code",
   "execution_count": 3,
   "metadata": {
    "colab": {},
    "colab_type": "code",
    "id": "5zGb2Mrs4JJu",
    "outputId": "b9fb7b25-e790-4e83-a564-cee5690d8a11"
   },
   "outputs": [
    {
     "data": {
      "text/plain": [
       "['23', '-24', '-1']"
      ]
     },
     "execution_count": 3,
     "metadata": {},
     "output_type": "execute_result"
    }
   ],
   "source": [
    "re.findall(r'[+-]?\\d+', \"23 + -24 = -1\")"
   ]
  },
  {
   "cell_type": "markdown",
   "metadata": {
    "colab_type": "text",
    "id": "hCTcaMnH4JJx"
   },
   "source": [
    "Suppose we are given a string of if/then sentences, and we\n",
    "would like to extract the conditions from these sentences.\n",
    "Let’s try the following function call:\n",
    "`re.findall(r'[Ii]f (.*), then', s)`.\n",
    "An example run:"
   ]
  },
  {
   "cell_type": "code",
   "execution_count": 5,
   "metadata": {
    "colab": {},
    "colab_type": "code",
    "id": "3JQGT5q74JJx",
    "outputId": "07fa024f-b1bd-4756-bbe1-d59b123a872c"
   },
   "outputs": [
    {
     "data": {
      "text/plain": [
       "['I’m not in a hurry, then I should stay. On the other hand, if I leave']"
      ]
     },
     "execution_count": 5,
     "metadata": {},
     "output_type": "execute_result"
    }
   ],
   "source": [
    "s = (\"If I’m not in a hurry, then I should stay. \" +\n",
    "    \"On the other hand, if I leave, then I can sleep.\")\n",
    "re.findall(r'[Ii]f (.*), then', s)"
   ]
  },
  {
   "cell_type": "markdown",
   "metadata": {
    "colab_type": "text",
    "id": "o83dBA3Q4JJ0"
   },
   "source": [
    "But I wanted a result: `[\"I'm not in a hurry\", 'I leave']`. That\n",
    "is, the condition from both sentences. How can this be fixed?\n",
    "\n",
    "The problem is that the pattern `.*` tries to match as many\n",
    "characters as possible.\n",
    "This is called *greedy matching*.\n",
    "One way of solving this problem is to notice that the two\n",
    "sentences are separated by a full-stop (.).\n",
    "So, instead of matching all the characters, we need to match\n",
    "everything but the dot character.\n",
    "This can be achieved by using the complement character\n",
    "class: `[^.]`. The hat character (`ˆ`) in the beginning of a\n",
    "character class means the complement character class\n",
    "\n",
    "After the modification the function call looks like this:\n",
    "`re.findall(r'[Ii]f ([^.]*), then', s)`.\n",
    "Another way of solving this problem is to use a non-greedy\n",
    "matching.\n",
    "The repetition specifiers `+`, `*`, `?`, and `{m,n}` have\n",
    "corresponding non-greedy versions: `+?`, `*?`, `??`, and `{m,n}?`.\n",
    "These expressions use as few characters as possible to make\n",
    "the whole pattern match some substring.\n",
    "By using non-greedy version, the function call looks like this:\n",
    "`re.findall(r’[Ii]f (.*?), then’, s)`.\n",
    "\n"
   ]
  },
  {
   "cell_type": "markdown",
   "metadata": {
    "colab_type": "text",
    "id": "5o6IDW0g4JJ1"
   },
   "source": [
    "### Functions in the `re` module\n",
    "\n",
    "Below is a list of the most common functions in the `re` module\n",
    "\n",
    "* `re.match(pattern, str)`\n",
    "* `re.search(pattern, str)`\n",
    "* `re.findall(pattern, str)`\n",
    "* `re.finditer(pattern, str)`\n",
    "* `re.sub(pattern, replacement, str, count=0)`\n",
    "\n",
    "Functions `match` and `search` return a *match object*.\n",
    "A match object describes the found occurence.\n",
    "The function `findall` returns a list of all the occurences of\n",
    "the pattern. The elements in the list are strings.\n",
    "The function `finditer` works like `findall` function except\n",
    "that instead of returning a list, it returns an iterator whose\n",
    "items are match objects.\n",
    "The function `sub` replaces all the occurences of the pattern in\n",
    "`str` with the string replacement and returns the new string.\n",
    "\n",
    "An example: The following program will replace all \"she\"\n",
    "words with \"he\"\n",
    "\n",
    "```\n",
    "import re\n",
    "str = \"She goes where she wants to, she's a sheriff.\"\n",
    "newstr = re.sub(r'\\b[Ss]he\\b', 'he', str)\n",
    "print newstr\n",
    "```\n",
    "\n",
    "This will print `he goes where he wants to, he's a sheriff.`\n",
    "\n",
    "The `sub` function can also use backreferences to refer to the\n",
    "matched string. The backreferences \\1, \\2, and so on, refer\n",
    "to the groups of the pattern, in order.\n",
    "An example:\n",
    "```\n",
    "import re\n",
    "str = \"\"\"He is the president of Russia.\n",
    "He’s a powerful man.\"\"\"\n",
    "newstr = re.sub(r'(\\b[Hh]e\\b)', r'\\1 (Putin)', str, 1)\n",
    "print newstr\n",
    "```\n",
    "\n",
    "This will print\n",
    "```\n",
    "He (Putin) is the president of Russia.\n",
    "He’s a powerful man.\n",
    "```"
   ]
  },
  {
   "cell_type": "markdown",
   "metadata": {
    "colab_type": "text",
    "id": "rXO76XTL4JJ1"
   },
   "source": [
    "### Match object\n",
    "\n",
    "Functions `match`, `search`, and `finditer` use `match` objects\n",
    "to describe the found occurence.\n",
    "The method `groups()` of the match object returns the tuple\n",
    "of all the substrings matched by the groups of the pattern.\n",
    "Each pair of parentheses in the pattern creates a new group.\n",
    "These groups are are referred to by indices 1, 2, ...\n",
    "The group 0 is a special one: it refers to the match created by\n",
    "the whole pattern.\n",
    "\n",
    "Let’s look at the match object returned by the call\n",
    "\n",
    "```\n",
    "mo = re.search(r'\\d+ (\\d+) \\d+ (\\d+)',\n",
    "'first 123 45 67 890 last')\n",
    "```\n",
    "\n",
    "The call `mo.groups()` returns a tuple `(’45’, ’890’)`.\n",
    "We can access just some individual groups by using the\n",
    "method `group(gid, ...)`.\n",
    "For example, the call `mo.group(1)` will return `’45’`.\n",
    "The zeroth group will represent the whole match:\n",
    "`’123 45 67 890’`\n",
    "\n",
    "In addition to accessing the strings matched by the pattern\n",
    "and its groups, the corresponding indices of the original string\n",
    "can be accessed:\n",
    "\n",
    "* The `start(gid=0)` and `end(gid=0)` methods return the start\n",
    "and end indices of the matched group gid, correspondingly\n",
    "* The method `span(gid)` just returns the pair of these start\n",
    "and end indices\n",
    "\n",
    "The match object mo can also be used like a boolean value:\n",
    "\n",
    "```python\n",
    "mo = re.search(...)\n",
    "if mo:\n",
    "    # do something\n",
    "```\n",
    "\n",
    "will do something if a match was found.\n",
    "Alternatively, the match object can be converted to a boolean\n",
    "value by the call `found = bool(mo)`."
   ]
  },
  {
   "cell_type": "markdown",
   "metadata": {
    "colab_type": "text",
    "id": "RkSvuBPH4JJ2"
   },
   "source": [
    "### Miscellaneous stuff\n",
    "\n",
    "If the same pattern is used in many function calls, it may be\n",
    "wise to precompile the pattern, mainly for efficiency reasons.\n",
    "This can be done using the `compile(pattern, flags=0)` function\n",
    "in the `re` module. The function returns a so-called RE object.\n",
    "The RE object has method versions of the functions found in\n",
    "module `re`.\n",
    "The only difference is that the first parameter is not the\n",
    "pattern since the precompiled pattern is stored in the RE\n",
    "object.\n",
    "\n",
    "The details of matching operation can be specified using\n",
    "optional flags.\n",
    "These flags can be given either inside the pattern or as a\n",
    "parameter to the compile function.\n",
    "Some of the more common flags are given in the following\n",
    "table\n",
    "\n",
    "| x   | Flag |\n",
    "|-----|--------------|\n",
    "|`(?i)` | re.IGNORECASE|\n",
    "|`(?m)` | re.MULTILINE|\n",
    "|`(?s)` | re.DOTALL|\n",
    "\n",
    "The elements on the left can appear anywhere in the pattern\n",
    "but preferably in the beginning.\n",
    "On the right there are attributes of the re module that can be\n",
    "given to the compile function as the second parameter\n",
    "\n",
    "The `IGNORECASE` flag makes lower- and uppercase\n",
    "characters appear as equal.\n",
    "The `MULTILINE` flag makes the special characters `ˆ` and `$`\n",
    "match the beginning and end of each line in addition to the\n",
    "beginning and end of the whole string. These flags make `\\A`\n",
    "differ from `ˆ`, and `\\Z` differ from `$`.\n",
    "The `DOTALL` flag makes the character class `.` (dot) also\n",
    "accept the newline character, in addition to all the other\n",
    "letters.\n",
    "\n",
    "When giving multiple flags to the compile function, the flags\n",
    "can be separated with the `|` sign.\n",
    "For example, `re.compile(pattern, re.MULTILINE | re.DOTALL)`.\n",
    "This is equal to `re.compile('(?m)(?s)' + pattern)`."
   ]
  },
  {
   "cell_type": "markdown",
   "metadata": {
    "colab_type": "text",
    "id": "BcogP4iR4JJ2"
   },
   "source": [
    "#### <div class=\"alert alert-info\">Group Exercise 1 (integers in brackets)</div>\n",
    "\n",
    "Write function `integers_in_brackets` that finds from a given string all integers that are enclosed in brackets.\n",
    "\n",
    "Example run:\n",
    "`integers_in_brackets(\"  afd [asd] [12 ] [a34]  [ -43 ]tt [+12]xxx\")`\n",
    "returns\n",
    "`[12, -43, 12]`.\n",
    "So there can be whitespace between the number and the brackets, but no other character besides those that make up the integer.\n",
    "\n",
    "Test your function from the `main` function.\n",
    "<hr/>"
   ]
  },
  {
   "cell_type": "raw",
   "metadata": {},
   "source": [
    "import re\n",
    "\n",
    "def integers_in_brackets(x):\n",
    "    y = re.findall(\"\\[(.*?)\\]\", x)\n",
    "\n",
    "    for i in range(len(y)):\n",
    "        re.findall('[1-2+-]\\d+', y(i))\n",
    "        \n",
    "        \n",
    "        \n",
    "      # print(y[i])\n",
    "      # print(z)\n",
    "  # for i in range(len(y)):\n",
    "  #     print(y[i].isdigit())\n",
    "  #.         print(y[i])\n",
    "  # z = re.findall('-?\\d+', x)\n",
    "  # y = re.findall('\\W', x)\n",
    "  # print(z) \n",
    "    \n",
    "integers_in_brackets(\"  afd [asd] [12 ] [a34]  [ -43 ]tt [+12]xxx\")"
   ]
  },
  {
   "cell_type": "code",
   "execution_count": 7,
   "metadata": {},
   "outputs": [
    {
     "data": {
      "text/plain": [
       "['23', '-24', '-1']"
      ]
     },
     "execution_count": 7,
     "metadata": {},
     "output_type": "execute_result"
    }
   ],
   "source": [
    "re.findall(r'[+-]?\\d+', \"23 + -24 = -1\")"
   ]
  },
  {
   "cell_type": "markdown",
   "metadata": {
    "colab_type": "text",
    "id": "YU7agwbW4JJ3"
   },
   "source": [
    "## Basic file processing"
   ]
  },
  {
   "cell_type": "markdown",
   "metadata": {
    "colab_type": "text",
    "id": "g3hx0Oo74JJ3"
   },
   "source": [
    "A file can be opened with the `open` function. The call `open(filename, mode=\"r\")` will return a *file object*, whose type is `file`. This file object can be used to refer to a file on disk. For example, when we want to read from or write to a file, we can used the methods `read` and `write` of the file object. After the file object is no longer needed, a call to the `close` method should be made.\n",
    "\n",
    "We can control what kind of operations we can perform on a file with the *mode* parameter of the `open` function. Different options include opening a file for reading or writing,\n",
    "whether the file should exists already or be created with the\n",
    "call to open, etc. Here's a list of all the opening modes:\n",
    "\n",
    "| Mode | Description |\n",
    "| ---- | ----------- |\n",
    "| `r`  | read-only mode, file must exist |\n",
    "| `w`  | write-only mode, creates, or overwrites an existing file |\n",
    "| `a`  | write-only mode, write always appends to the end |\n",
    "| `r+` | read/write mode, file must already exist |\n",
    "| `w+` | read/write mode, creates, or overwrites an existing file |\n",
    "| `a+` | read/write mode, write will append to end |"
   ]
  },
  {
   "cell_type": "markdown",
   "metadata": {
    "colab_type": "text",
    "id": "wfehRCcU4JJ4"
   },
   "source": [
    "In the end of the mode string either the letter `t` or `b` can be appended. These stand for text mode and binary mode. If this letter is not given, the file type is text mode by default. \n",
    "\n",
    "For binary mode the contents of the file are not interpreted in any way, and the read and write methods handle bytes. (A byte consists of 8 bits and can be used to represent a number in the range 0 to 255.)\n",
    "\n",
    "In the text mode two interpretations happen\n",
    "\n",
    "* On Windows operating system the end of line in files is encoded by two characters. When the file is read these two charactes are converted to `'\\n'` character. During writes to a file this conversion happens in the opposite direction.\n",
    "* One character is encoded in the file as one or more bytes. This conversion happens automatically during read and write operations. One common encoding between bytes and characters is utf-8. In this encoding, the Finnish character `'ä'`, for example, is encoded as the following sequence of bytes:"
   ]
  },
  {
   "cell_type": "code",
   "execution_count": 0,
   "metadata": {
    "colab": {},
    "colab_type": "code",
    "id": "bi7G-bfk4JJ4",
    "outputId": "5a7f59ef-5b46-4135-9014-7827ad71992e"
   },
   "outputs": [
    {
     "data": {
      "text/plain": [
       "b'\\xc3\\xa4'"
      ]
     },
     "execution_count": 4,
     "metadata": {
      "tags": []
     },
     "output_type": "execute_result"
    }
   ],
   "source": [
    "\"ä\".encode(\"utf-8\")"
   ]
  },
  {
   "cell_type": "markdown",
   "metadata": {
    "colab_type": "text",
    "id": "E653sxG-4JJ7"
   },
   "source": [
    "Above the two bytes were expressed as hexadecimals. In decimal notation they would be 195 and 164. (Both in the range from 0 to 255.)"
   ]
  },
  {
   "cell_type": "code",
   "execution_count": 0,
   "metadata": {
    "colab": {},
    "colab_type": "code",
    "id": "ebnUZrf14JJ8",
    "outputId": "ef90dff5-2432-453b-aa2b-c05afacdb09f"
   },
   "outputs": [
    {
     "data": {
      "text/plain": [
       "[195, 164]"
      ]
     },
     "execution_count": 5,
     "metadata": {
      "tags": []
     },
     "output_type": "execute_result"
    }
   ],
   "source": [
    "list(\"ä\".encode(\"utf-8\"))              # Show as a list of integers"
   ]
  },
  {
   "cell_type": "markdown",
   "metadata": {
    "colab_type": "text",
    "id": "cEIpbwTJ4JJ_"
   },
   "source": [
    "What is the utf-8 encoding of the letter `'a'`?\n",
    "\n",
    "During this course we will only consider files containing text, so the default text mode is fine for us. But we might sometimes have to specify the encoding of a file, if it is not the usual utf-8."
   ]
  },
  {
   "cell_type": "markdown",
   "metadata": {
    "colab_type": "text",
    "id": "b0ED6foV4JJ_"
   },
   "source": [
    "### Some common file object methods\n",
    "* `read(size)` will read size characters/bytes as a string\n",
    "* `write(string)` will write string/bytes to a file\n",
    "* `readline()` will read a string until and including the next newline character is met\n",
    "* `readlines()` will return a list of all lines of a file\n",
    "* `writelines()` will write a list of lines to a file\n",
    "* `flush()` will try to make sure that the changes made to a file are written to disk immediately"
   ]
  },
  {
   "cell_type": "code",
   "execution_count": 16,
   "metadata": {
    "ExecuteTime": {
     "end_time": "2019-06-13T14:52:31.003612Z",
     "start_time": "2019-06-13T14:52:30.995901Z"
    },
    "colab": {},
    "colab_type": "code",
    "id": "P3tBv6Ln4JJ_",
    "outputId": "ea9275f3-1a01-4670-d34b-a18a9f811284"
   },
   "outputs": [
    {
     "name": "stdout",
     "output_type": "stream",
     "text": [
      "Line 0: {\n",
      "Line 1:  \"cells\": [\n",
      "Line 2:   {\n",
      "Line 3:    \"cell_type\": \"markdown\",\n",
      "Line 4:    \"metadata\": {\n"
     ]
    }
   ],
   "source": [
    "#f = open(\"../realworld/csv/04_rw_csv.ipynb\", \"r\") # Let's open this notebook file,\n",
    "f = open(\"02_regex.ipynb\", \"r\")\n",
    "\n",
    "                              # which is essentially a text file.\n",
    "                              # So you can open it in a texteditor as well.\n",
    "        \n",
    "for i in range(5):            # And read the first five lines\n",
    "    line = f.readline()\n",
    "    print(f\"Line {i}: {line}\", end=\"\")\n",
    "f.close()"
   ]
  },
  {
   "cell_type": "markdown",
   "metadata": {
    "colab_type": "text",
    "id": "1OUADBB_4JKE"
   },
   "source": [
    "It is easy to forget to close the file. One can use a *context manager* to solve this problem. A context manager is created with the `with` statement. After the indented block of the `with` statement exits, the file will be automatically closed."
   ]
  },
  {
   "cell_type": "code",
   "execution_count": 17,
   "metadata": {
    "ExecuteTime": {
     "end_time": "2019-06-13T14:52:54.616535Z",
     "start_time": "2019-06-13T14:52:54.609996Z"
    },
    "colab": {},
    "colab_type": "code",
    "id": "vssMMR5N4JKF",
    "outputId": "801b880d-2d7b-430f-8fc1-0e79175397bd"
   },
   "outputs": [
    {
     "name": "stdout",
     "output_type": "stream",
     "text": [
      "Line 0: {\n",
      "Line 1:  \"cells\": [\n",
      "Line 2:   {\n",
      "Line 3:    \"cell_type\": \"markdown\",\n",
      "Line 4:    \"metadata\": {},\n"
     ]
    }
   ],
   "source": [
    "with open(\"../realworld/csv/04_rw_csv.ipynb\", \"r\") as f:          # the file will be automatically closed,\n",
    "                                              # when the with block exits\n",
    "    for i in range(5):\n",
    "        line = f.readline()\n",
    "        print(f\"Line {i}: {line}\", end=\"\")"
   ]
  },
  {
   "cell_type": "markdown",
   "metadata": {
    "colab_type": "text",
    "id": "-LmigMIN4JKI"
   },
   "source": [
    "The `file` object is iterable. This means that we can iterate through the lines in the file using a for loop, like in the below example:"
   ]
  },
  {
   "cell_type": "code",
   "execution_count": 18,
   "metadata": {
    "ExecuteTime": {
     "end_time": "2019-06-13T14:57:40.297056Z",
     "start_time": "2019-06-13T14:57:40.289012Z"
    },
    "colab": {},
    "colab_type": "code",
    "id": "6fVHhCXt4JKI",
    "outputId": "df6151e0-0069-4904-dccf-d60a0d0849f9"
   },
   "outputs": [
    {
     "name": "stdout",
     "output_type": "stream",
     "text": [
      "The longest line in this file has length 220\n"
     ]
    }
   ],
   "source": [
    "max_len = 0\n",
    "with open(\"../realworld/csv/04_rw_csv.ipynb\", \"r\") as f:\n",
    "    for line in f:    # iterates through all the lines in the file\n",
    "        if len(line) > max_len:\n",
    "            max_len = len(line)\n",
    "print(f\"The longest line in this file has length {max_len}\")"
   ]
  },
  {
   "cell_type": "markdown",
   "metadata": {
    "colab_type": "text",
    "id": "g_M4NESj4JKK"
   },
   "source": [
    "### Standard file objects\n",
    "Python has automatically three file objects open:\n",
    "\n",
    "* `sys.stdin` for *standard input*\n",
    "* `sys.stdout` for *standard output*\n",
    "* `sys.stderr` for *standard error*\n",
    "To read a line from a user (keyboard), you can call `sys.stdin.readline()`. To write a line to a user (screen), call `sys.stdout.write(line)`. The standard error is meant for error messages only, even though its output often goes to the same destination as standard output.\n",
    "\n",
    "The print function uses the file `sys.stdout` and input function uses the file `sys.stdin`. An example of usage:"
   ]
  },
  {
   "cell_type": "code",
   "execution_count": 19,
   "metadata": {
    "colab": {},
    "colab_type": "code",
    "id": "OuMq585X4JKL",
    "outputId": "c296daa9-5c8a-4aae-bdeb-31acfabd93b7"
   },
   "outputs": [
    {
     "name": "stdout",
     "output_type": "stream",
     "text": [
      "Got a positive integer.\n"
     ]
    }
   ],
   "source": [
    "import sys\n",
    "import random\n",
    "i=random.randint(-10,10)\n",
    "if i >= 0:\n",
    "    sys.stdout.write(\"Got a positive integer.\\n\")\n",
    "else:\n",
    "    sys.stderr.write(\"Got a negative integer.\\n\")"
   ]
  },
  {
   "cell_type": "markdown",
   "metadata": {
    "colab_type": "text",
    "id": "Ob5xc3Gb4JKN"
   },
   "source": [
    "These standard file objects are meant to be a basic input/output mechanism in textual form. The destinations of the file objects can be changed to point\n",
    "somewhere else than the usual keyboard and screen. Very often these are redirected to some files. For example, it is usual to point the stderr to a file where all\n",
    "error messages are logged."
   ]
  },
  {
   "cell_type": "markdown",
   "metadata": {
    "colab_type": "text",
    "id": "ogZ1XHjN4JKO"
   },
   "source": [
    "## sys module\n",
    "\n",
    "We saw above that the `sys` module contains the three file objects `sys.stdin`, `sys.stdout`, and `sys.stderr`. It has also few other useful attributes. The attribute `sys.path` is the list of folders that Python uses to look for imported modules. The list `sys.argv` contains the so called *command line parameters*. For example in Linux if you are using the terminal, then you can run your program with the command `python3 programname.py param1 param2 ...`. After Python has started your program, the command line parameters are visible as follows. The name of the program is in `sys.argv[0]`. The rest of the command line parameters are after the program name in this list: `sys.argv[1]==\"param1\"`, `sys.argv[2]==\"param2\"`, and so on. The command line parameters can be useful in adjusting the behaviour of your program. A few examples of these will be in the following exercises. (The terminal window is a textual interface to your computer instead of the usual graphical interface.)\n",
    "\n",
    "The function `sys.exit` can be used to exit immediately your program. The integer parameter given to this function is the return value of the program. Usually the return value 0 means that the program ran successfully, and non-zero integer means that an error occurred. This return value is accessible from the terminal window from where you started the program."
   ]
  },
  {
   "cell_type": "markdown",
   "metadata": {
    "colab_type": "text",
    "id": "cC6C2-IA4JKP"
   },
   "source": [
    "#### <div class=\"alert alert-info\">Group Exercise 2 (file listing)</div>\n",
    "\n",
    "The file `files/listing.txt` contains a list of files with one line per file. Each line contains seven fields: access rights, number of references, owner's name, name of owning group, file size, date, filename. These fields are separated with one or more spaces. Note that there may be spaces also within these seven fields.\n",
    "\n",
    "Write function `file_listing` that loads the file `files/listing.txt`. It should return a list of tuples (size, month, day, hour, minute, filename). Use regular expressions to do this (either `match`, `search`, `findall`, or `finditer` method).\n",
    "\n",
    "An example: for line\n",
    "```\n",
    "-rw-r--r-- 1 jttoivon hyad-all   25399 Nov  2 21:25 exception_hierarchy.pdf\n",
    "```\n",
    "the function should create the tuple `(25399, \"Nov\", 2, 21, 25, \"exception_hierarchy.pdf\")`.\n",
    "<hr/>"
   ]
  },
  {
   "cell_type": "code",
   "execution_count": 27,
   "metadata": {},
   "outputs": [
    {
     "data": {
      "text/plain": [
       "['.DS_Store',\n",
       " '02_regex.ipynb',\n",
       " 'supplemental',\n",
       " '04_closures_generators.ipynb',\n",
       " 'README.md',\n",
       " '05_gen_regex_exercises.ipynb',\n",
       " '01_generators.ipynb',\n",
       " 'files',\n",
       " '.ipynb_checkpoints',\n",
       " '03_str_manipulate.ipynb']"
      ]
     },
     "execution_count": 27,
     "metadata": {},
     "output_type": "execute_result"
    }
   ],
   "source": [
    "os.listdir(path='.')"
   ]
  },
  {
   "cell_type": "code",
   "execution_count": 26,
   "metadata": {},
   "outputs": [],
   "source": [
    "def getListOfFiles(dirName):\n",
    "    # create a list of file and sub directories \n",
    "    # names in the given directory \n",
    "    listOfFile = os.listdir(dirName)\n",
    "    allFiles = list()\n",
    "    # Iterate over all the entries\n",
    "    for entry in listOfFile:\n",
    "        # Create full path\n",
    "        fullPath = os.path.join(dirName, entry)\n",
    "        # If entry is a directory then get the list of files in this directory \n",
    "        if os.path.isdir(fullPath):\n",
    "            allFiles = allFiles + getListOfFiles(fullPath)\n",
    "        else:\n",
    "            allFiles.append(fullPath)\n",
    "                \n",
    "    return allFiles"
   ]
  },
  {
   "cell_type": "code",
   "execution_count": 29,
   "metadata": {},
   "outputs": [
    {
     "name": "stdout",
     "output_type": "stream",
     "text": [
      "['./.DS_Store', './02_regex.ipynb', './supplemental/README.md', './04_closures_generators.ipynb', './README.md', './05_gen_regex_exercises.ipynb', './01_generators.ipynb', './files/listing.txt', './files/alice.txt', './files/rgb.txt', './files/table.png', './.ipynb_checkpoints/03_str_manipulate-checkpoint.ipynb', './.ipynb_checkpoints/01_generators-checkpoint.ipynb', './.ipynb_checkpoints/04_closures_generators-checkpoint.ipynb', './.ipynb_checkpoints/02_regex-checkpoint.ipynb', './03_str_manipulate.ipynb']\n"
     ]
    }
   ],
   "source": [
    "dirName = '.';\n",
    " \n",
    "# Get the list of all files in directory tree at given path\n",
    "listOfFiles = getListOfFiles(dirName)\n",
    "print(listOfFiles)"
   ]
  },
  {
   "cell_type": "markdown",
   "metadata": {
    "colab_type": "text",
    "id": "uoaiVp1y4JKP"
   },
   "source": [
    "#### <div class=\"alert alert-info\">Group Exercise 3 (red green blue)</div>\n",
    "\n",
    "The file `files/rgb.txt` contains names of colors and their numerical representations in RGB format. The RBG format allows a color to be represented as a mixture of red, green, and blue components. Each component can have an integer value in the range [0,255]. Each line in the file contains four fields: red, green, blue, and colorname.\n",
    "Each field is separated by some amount of whitespace (tab or space in this case).\n",
    "The text file is formatted to make it print nicely, but that makes it harder to process by a computer. Note that some color names can also contain a space character.\n",
    " \n",
    "Write function `red_green_blue` that reads the file `rgb.txt` from the folder `files`.  Remove the irrelevant first line of the file. The function should return a list of strings. Clean-up the file so that the strings in the returned list have four fields separated by a single tab character (`\\t`). Use regular expressions to do this.\n",
    "\n",
    "The first string in the returned list should be:\n",
    "```\n",
    "'255\\t250\\t250\\tsnow'\n",
    "```\n",
    "\n",
    "<hr/>"
   ]
  },
  {
   "cell_type": "code",
   "execution_count": null,
   "metadata": {},
   "outputs": [],
   "source": []
  },
  {
   "cell_type": "raw",
   "metadata": {},
   "source": [
    "# red\t#FF0000\trgb(255,0,0)\n",
    "# blue  #0000FF\trgb(0, 0, 255)\n",
    "# green #008000\trgb(0, 128, 0)"
   ]
  },
  {
   "cell_type": "code",
   "execution_count": 1,
   "metadata": {},
   "outputs": [
    {
     "name": "stdout",
     "output_type": "stream",
     "text": [
      "255 250 250\t\tsnow\n",
      "\n",
      "248 248 255\t\tGhostWhite\n",
      "\n",
      "245 245 245\t\tWhiteSmoke\n",
      "\n",
      "255 250 240\t\tfloral white\n",
      "\n",
      "253 245 230\t\told lace\n",
      "\n",
      "250 240 230\t\tlinen\n",
      "\n",
      "250 235 215\t\tAntiqueWhite\n",
      "\n",
      "255 239 213\t\tPapayaWhip\n",
      "\n",
      "255 235 205\t\tBlanchedAlmond\n",
      "\n",
      "255 218 185\t\tpeach puff\n",
      "\n",
      "255 222 173\t\tnavajo white\n",
      "\n",
      "255 228 181\t\tmoccasin\n",
      "\n",
      "255 255 240\t\tivory\n",
      "\n",
      "255 250 205\t\tLemonChiffon\n",
      "\n",
      "240 255 240\t\thoneydew\n",
      "\n",
      "245 255 250\t\tMintCream\n",
      "\n",
      "240 248 255\t\talice blue\n",
      "\n",
      "230 230 250\t\tlavender\n",
      "\n",
      "255 240 245\t\tLavenderBlush\n",
      "\n",
      "255 228 225\t\tMistyRose\n",
      "\n",
      "  0   0   0\t\tblack\n",
      "\n",
      " 47  79  79\t\tDarkSlateGray\n",
      "\n",
      " 47  79  79\t\tDarkSlateGrey\n",
      "\n",
      "105 105 105\t\tDimGray\n",
      "\n",
      "105 105 105\t\tDimGrey\n",
      "\n",
      "112 128 144\t\tSlateGray\n",
      "\n",
      "112 128 144\t\tSlateGrey\n",
      "\n",
      "119 136 153\t\tLightSlateGray\n",
      "\n",
      "119 136 153\t\tLightSlateGrey\n",
      "\n",
      "190 190 190\t\tgrey\n",
      "\n",
      "211 211 211\t\tLightGrey\n",
      "\n",
      "211 211 211\t\tLightGray\n",
      "\n",
      " 25  25 112\t\tMidnightBlue\n",
      "\n",
      "  0   0 128\t\tnavy blue\n",
      "\n",
      "100 149 237\t\tcornflower blue\n",
      "\n",
      " 72  61 139\t\tdark slate blue\n",
      "\n",
      "106  90 205\t\tslate blue\n",
      "\n",
      "123 104 238\t\tmedium slate blue\n",
      "\n",
      "132 112 255\t\tlight slate blue\n",
      "\n",
      "  0   0 205\t\tmedium blue\n",
      "\n",
      " 65 105 225\t\troyal blue\n",
      "\n",
      "  0   0 255\t\tblue\n",
      "\n",
      " 30 144 255\t\tDodgerBlue\n",
      "\n",
      "  0 191 255\t\tDeepSkyBlue\n",
      "\n",
      "135 206 235\t\tSkyBlue\n",
      "\n",
      "135 206 250\t\tLightSkyBlue\n",
      "\n",
      " 70 130 180\t\tSteelBlue\n",
      "\n",
      "176 196 222\t\tLightSteelBlue\n",
      "\n",
      "173 216 230\t\tLightBlue\n",
      "\n",
      "176 224 230\t\tPowderBlue\n",
      "\n",
      "175 238 238\t\tPaleTurquoise\n",
      "\n",
      "  0 206 209\t\tDarkTurquoise\n",
      "\n",
      " 72 209 204\t\tMediumTurquoise\n",
      "\n",
      "  0 255 255\t\tcyan\n",
      "\n",
      "224 255 255\t\tLightCyan\n",
      "\n",
      " 95 158 160\t\tCadetBlue\n",
      "\n",
      "102 205 170\t\tMediumAquamarine\n",
      "\n",
      "  0 100   0\t\tdark green\n",
      "\n",
      " 85 107  47\t\tdark olive green\n",
      "\n",
      "143 188 143\t\tdark sea green\n",
      "\n",
      " 46 139  87\t\tsea green\n",
      "\n",
      " 60 179 113\t\tmedium sea green\n",
      "\n",
      " 32 178 170\t\tlight sea green\n",
      "\n",
      "152 251 152\t\tpale green\n",
      "\n",
      "  0 255 127\t\tspring green\n",
      "\n",
      "124 252   0\t\tlawn green\n",
      "\n",
      "  0 255   0\t\tgreen\n",
      "\n",
      "  0 250 154\t\tmedium spring green\n",
      "\n",
      "173 255  47\t\tgreen yellow\n",
      "\n",
      " 50 205  50\t\tlime green\n",
      "\n",
      "154 205  50\t\tyellow green\n",
      "\n",
      " 34 139  34\t\tforest green\n",
      "\n",
      "107 142  35\t\tolive drab\n",
      "\n",
      "189 183 107\t\tdark khaki\n",
      "\n",
      "240 230 140\t\tkhaki\n",
      "\n",
      "238 232 170\t\tPaleGoldenrod\n",
      "\n",
      "250 250 210\t\tLightGoldenrodYellow\n",
      "\n",
      "255 255 224\t\tLightYellow\n",
      "\n",
      "255 215   0 \t\tgold\n",
      "\n",
      "238 221 130\t\tLightGoldenrod\n",
      "\n",
      "184 134  11\t\tdark goldenrod\n",
      "\n",
      "188 143 143\t\trosy brown\n",
      "\n",
      "205  92  92\t\tindian red\n",
      "\n",
      "139  69  19\t\tsaddle brown\n",
      "\n",
      "160  82  45\t\tsienna\n",
      "\n",
      "222 184 135\t\tburlywood\n",
      "\n",
      "245 222 179\t\twheat\n",
      "\n",
      "244 164  96\t\tSandyBrown\n",
      "\n",
      "210 105  30\t\tchocolate\n",
      "\n",
      "165  42  42\t\tbrown\n",
      "\n",
      "233 150 122\t\tDarkSalmon\n",
      "\n",
      "255 160 122\t\tlight salmon\n",
      "\n",
      "255 165   0\t\torange\n",
      "\n",
      "255 140   0\t\tDarkOrange\n",
      "\n",
      "240 128 128\t\tlight coral\n",
      "\n",
      "255  99  71\t\ttomato\n",
      "\n",
      "255  69   0\t\tOrangeRed\n",
      "\n",
      "255 105 180\t\thot pink\n",
      "\n",
      "255  20 147\t\tdeep pink\n",
      "\n",
      "255 192 203\t\tpink\n",
      "\n",
      "255 182 193\t\tLightPink\n",
      "\n",
      "219 112 147\t\tPaleVioletRed\n",
      "\n",
      "199  21 133\t\tmedium violet red\n",
      "\n",
      "208  32 144\t\tviolet red\n",
      "\n",
      "255   0 255\t\tmagenta\n",
      "\n",
      "221 160 221\t\tplum\n",
      "\n",
      "186  85 211\t\tmedium orchid\n",
      "\n",
      "153  50 204\t\tdark orchid\n",
      "\n",
      "148   0 211\t\tdark violet\n",
      "\n",
      "138  43 226\t\tblue violet\n",
      "\n",
      "160  32 240\t\tpurple\n",
      "\n",
      "147 112 219\t\tMediumPurple\n",
      "\n",
      "255 250 250\t\tsnow1\n",
      "\n",
      "205 201 201\t\tsnow3\n",
      "\n",
      "255 245 238\t\tseashell1\n",
      "\n",
      "205 197 191\t\tseashell3\n",
      "\n",
      "255 239 219\t\tAntiqueWhite1\n",
      "\n",
      "205 192 176\t\tAntiqueWhite3\n",
      "\n",
      "255 228 196\t\tbisque1\n",
      "\n",
      "205 183 158\t\tbisque3\n",
      "\n",
      "255 218 185\t\tPeachPuff1\n",
      "\n",
      "205 175 149\t\tPeachPuff3\n",
      "\n",
      "255 222 173\t\tNavajoWhite1\n",
      "\n",
      "205 179 139\t\tNavajoWhite3\n",
      "\n",
      "255 250 205\t\tLemonChiffon1\n",
      "\n",
      "205 201 165\t\tLemonChiffon3\n",
      "\n",
      "255 248 220\t\tcornsilk1\n",
      "\n",
      "205 200 177\t\tcornsilk3\n",
      "\n",
      "255 255 240\t\tivory1\n",
      "\n",
      "205 205 193\t\tivory3\n",
      "\n",
      "240 255 240\t\thoneydew1\n",
      "\n",
      "193 205 193\t\thoneydew3\n",
      "\n",
      "255 240 245\t\tLavenderBlush1\n",
      "\n",
      "205 193 197\t\tLavenderBlush3\n",
      "\n",
      "255 228 225\t\tMistyRose1\n",
      "\n",
      "205 183 181\t\tMistyRose3\n",
      "\n",
      "240 255 255\t\tazure1\n",
      "\n",
      "193 205 205\t\tazure3\n",
      "\n",
      "131 111 255\t\tSlateBlue1\n",
      "\n",
      "105  89 205\t\tSlateBlue3\n",
      "\n",
      " 72 118 255\t\tRoyalBlue1\n",
      "\n",
      " 58  95 205\t\tRoyalBlue3\n",
      "\n",
      "  0   0 255\t\tblue1\n",
      "\n",
      "  0   0 205\t\tblue3\n",
      "\n",
      " 30 144 255\t\tDodgerBlue1\n",
      "\n",
      " 24 116 205\t\tDodgerBlue3\n",
      "\n",
      " 99 184 255\t\tSteelBlue1\n",
      "\n",
      " 79 148 205\t\tSteelBlue3\n",
      "\n",
      "  0 191 255\t\tDeepSkyBlue1\n",
      "\n",
      "  0 154 205\t\tDeepSkyBlue3\n",
      "\n",
      "135 206 255\t\tSkyBlue1\n",
      "\n",
      "108 166 205\t\tSkyBlue3\n",
      "\n",
      "176 226 255\t\tLightSkyBlue1\n",
      "\n",
      "141 182 205\t\tLightSkyBlue3\n",
      "\n",
      "198 226 255\t\tSlateGray1\n",
      "\n",
      "159 182 205\t\tSlateGray3\n",
      "\n",
      "202 225 255\t\tLightSteelBlue1\n",
      "\n",
      "162 181 205\t\tLightSteelBlue3\n",
      "\n",
      "191 239 255\t\tLightBlue1\n",
      "\n",
      "154 192 205\t\tLightBlue3\n",
      "\n",
      "224 255 255\t\tLightCyan1\n",
      "\n",
      "180 205 205\t\tLightCyan3\n",
      "\n",
      "187 255 255\t\tPaleTurquoise1\n",
      "\n",
      "150 205 205\t\tPaleTurquoise3\n",
      "\n",
      "152 245 255\t\tCadetBlue1\n",
      "\n",
      "122 197 205\t\tCadetBlue3\n",
      "\n",
      "  0 245 255\t\tturquoise1\n",
      "\n",
      "  0 197 205\t\tturquoise3\n",
      "\n",
      "  0 255 255\t\tcyan1\n",
      "\n",
      "  0 205 205\t\tcyan3\n",
      "\n",
      "151 255 255\t\tDarkSlateGray1\n",
      "\n",
      "121 205 205\t\tDarkSlateGray3\n",
      "\n",
      "127 255 212\t\taquamarine1\n",
      "\n",
      "102 205 170\t\taquamarine3\n",
      "\n",
      "193 255 193\t\tDarkSeaGreen1\n",
      "\n",
      "155 205 155\t\tDarkSeaGreen3\n",
      "\n",
      " 84 255 159\t\tSeaGreen1\n",
      "\n",
      " 67 205 128\t\tSeaGreen3\n",
      "\n",
      "154 255 154\t\tPaleGreen1\n",
      "\n",
      "124 205 124\t\tPaleGreen3\n",
      "\n",
      "  0 255 127\t\tSpringGreen1\n",
      "\n",
      "  0 205 102\t\tSpringGreen3\n",
      "\n",
      "  0 255\t  0\t\tgreen1\n",
      "\n",
      "  0 205\t  0\t\tgreen3\n",
      "\n",
      "127 255\t  0\t\tchartreuse1\n",
      "\n",
      "102 205\t  0\t\tchartreuse3\n",
      "\n",
      "192 255\t 62\t\tOliveDrab1\n",
      "\n",
      "154 205\t 50\t\tOliveDrab3\n",
      "\n",
      "202 255 112\t\tDarkOliveGreen1\n",
      "\n",
      "162 205\t 90\t\tDarkOliveGreen3\n",
      "\n",
      "255 246 143\t\tkhaki1\n",
      "\n",
      "205 198 115\t\tkhaki3\n",
      "\n",
      "255 236 139\t\tLightGoldenrod1\n",
      "\n",
      "205 190 112\t\tLightGoldenrod3\n",
      "\n",
      "255 255 224\t\tLightYellow1\n",
      "\n",
      "205 205 180\t\tLightYellow3\n",
      "\n",
      "255 255\t  0\t\tyellow1\n",
      "\n",
      "205 205\t  0\t\tyellow3\n",
      "\n",
      "255 215\t  0\t\tgold1\n",
      "\n",
      "205 173\t  0\t\tgold3\n",
      "\n",
      "255 193\t 37\t\tgoldenrod1\n",
      "\n",
      "205 155\t 29\t\tgoldenrod3\n",
      "\n",
      "255 185\t 15\t\tDarkGoldenrod1\n",
      "\n",
      "205 149\t 12\t\tDarkGoldenrod3\n",
      "\n",
      "255 193 193\t\tRosyBrown1\n",
      "\n",
      "205 155 155\t\tRosyBrown3\n",
      "\n",
      "255 106 106\t\tIndianRed1\n",
      "\n",
      "205  85\t 85\t\tIndianRed3\n",
      "\n",
      "255 130\t 71\t\tsienna1\n",
      "\n",
      "205 104\t 57\t\tsienna3\n",
      "\n",
      "255 211 155\t\tburlywood1\n",
      "\n",
      "205 170 125\t\tburlywood3\n",
      "\n",
      "255 231 186\t\twheat1\n",
      "\n",
      "205 186 150\t\twheat3\n",
      "\n",
      "255 165\t 79\t\ttan1\n",
      "\n",
      "205 133\t 63\t\ttan3\n",
      "\n",
      "255 127\t 36\t\tchocolate1\n",
      "\n",
      "205 102\t 29\t\tchocolate3\n",
      "\n",
      "255  48\t 48\t\tfirebrick1\n",
      "\n",
      "205  38\t 38\t\tfirebrick3\n",
      "\n",
      "255  64\t 64\t\tbrown1\n",
      "\n",
      "205  51\t 51\t\tbrown3\n",
      "\n",
      "255 140 105\t\tsalmon1\n",
      "\n",
      "205 112\t 84\t\tsalmon3\n",
      "\n",
      "255 160 122\t\tLightSalmon1\n",
      "\n",
      "205 129\t 98\t\tLightSalmon3\n",
      "\n",
      "255 165\t  0\t\torange1\n",
      "\n",
      "205 133\t  0\t\torange3\n",
      "\n",
      "255 127\t  0\t\tDarkOrange1\n",
      "\n",
      "205 102\t  0\t\tDarkOrange3\n",
      "\n",
      "255 114\t 86\t\tcoral1\n",
      "\n",
      "205  91\t 69\t\tcoral3\n",
      "\n",
      "255  99\t 71\t\ttomato1\n",
      "\n",
      "205  79\t 57\t\ttomato3\n",
      "\n",
      "255  69\t  0\t\tOrangeRed1\n",
      "\n",
      "205  55\t  0\t\tOrangeRed3\n",
      "\n",
      "255   0\t  0\t\tred1\n",
      "\n",
      "205   0\t  0\t\tred3\n",
      "\n",
      "255  20 147\t\tDeepPink1\n",
      "\n",
      "205  16 118\t\tDeepPink3\n",
      "\n",
      "255 110 180\t\tHotPink1\n",
      "\n",
      "205  96 144\t\tHotPink3\n",
      "\n",
      "255 181 197\t\tpink1\n",
      "\n",
      "205 145 158\t\tpink3\n",
      "\n",
      "255 174 185\t\tLightPink1\n",
      "\n",
      "205 140 149\t\tLightPink3\n",
      "\n",
      "255 130 171\t\tPaleVioletRed1\n",
      "\n",
      "205 104 137\t\tPaleVioletRed3\n",
      "\n",
      "255  52 179\t\tmaroon1\n",
      "\n",
      "205  41 144\t\tmaroon3\n",
      "\n",
      "255  62 150\t\tVioletRed1\n",
      "\n",
      "205  50 120\t\tVioletRed3\n",
      "\n",
      "255   0 255\t\tmagenta1\n",
      "\n",
      "205   0 205\t\tmagenta3\n",
      "\n",
      "255 131 250\t\torchid1\n",
      "\n",
      "205 105 201\t\torchid3\n",
      "\n",
      "255 187 255\t\tplum1\n",
      "\n",
      "205 150 205\t\tplum3\n",
      "\n",
      "224 102 255\t\tMediumOrchid1\n",
      "\n",
      "180  82 205\t\tMediumOrchid3\n",
      "\n",
      "191  62 255\t\tDarkOrchid1\n",
      "\n",
      "154  50 205\t\tDarkOrchid3\n",
      "\n",
      "155  48 255\t\tpurple1\n",
      "\n",
      "125  38 205\t\tpurple3\n",
      "\n",
      "171 130 255\t\tMediumPurple1\n",
      "\n",
      "137 104 205\t\tMediumPurple3\n",
      "\n",
      "255 225 255\t\tthistle1\n",
      "\n",
      "205 181 205\t\tthistle3\n",
      "\n",
      "  0   0   0\t\tgray0\n",
      "\n",
      "  3   3   3\t\tgray1\n",
      "\n",
      "  5   5   5\t\tgray2\n",
      "\n",
      "  8   8   8\t\tgray3\n",
      "\n",
      " 10  10  10 \t\tgray4\n",
      "\n",
      " 13  13  13 \t\tgray5\n",
      "\n",
      " 15  15  15 \t\tgray6\n",
      "\n",
      " 18  18  18 \t\tgray7\n",
      "\n",
      " 20  20  20 \t\tgray8\n",
      "\n",
      " 23  23  23 \t\tgray9\n",
      "\n",
      " 26  26  26 \t\tgray10\n",
      "\n",
      " 28  28  28 \t\tgray11\n",
      "\n",
      " 31  31  31 \t\tgray12\n",
      "\n",
      " 33  33  33 \t\tgray13\n",
      "\n",
      " 36  36  36 \t\tgray14\n",
      "\n",
      " 38  38  38 \t\tgray15\n",
      "\n",
      " 41  41  41 \t\tgray16\n",
      "\n",
      " 43  43  43 \t\tgray17\n",
      "\n",
      " 46  46  46 \t\tgray18\n",
      "\n",
      " 48  48  48 \t\tgray19\n",
      "\n",
      " 51  51  51 \t\tgray20\n",
      "\n",
      " 54  54  54 \t\tgray21\n",
      "\n",
      " 56  56  56 \t\tgray22\n",
      "\n",
      " 59  59  59 \t\tgray23\n",
      "\n",
      " 61  61  61 \t\tgray24\n",
      "\n",
      " 64  64  64 \t\tgray25\n",
      "\n",
      " 66  66  66 \t\tgray26\n",
      "\n",
      " 69  69  69 \t\tgray27\n",
      "\n",
      " 71  71  71 \t\tgray28\n",
      "\n",
      " 74  74  74 \t\tgray29\n",
      "\n",
      " 77  77  77 \t\tgray30\n",
      "\n",
      " 79  79  79 \t\tgray31\n",
      "\n",
      " 82  82  82 \t\tgray32\n",
      "\n",
      " 84  84  84 \t\tgray33\n",
      "\n",
      " 87  87  87 \t\tgray34\n",
      "\n",
      " 89  89  89 \t\tgray35\n",
      "\n",
      " 92  92  92 \t\tgray36\n",
      "\n",
      " 94  94  94 \t\tgray37\n",
      "\n",
      " 97  97  97 \t\tgray38\n",
      "\n",
      " 99  99  99 \t\tgray39\n",
      "\n",
      "102 102 102 \t\tgray40\n",
      "\n",
      "105 105 105 \t\tgray41\n",
      "\n",
      "107 107 107 \t\tgray42\n",
      "\n",
      "110 110 110 \t\tgray43\n",
      "\n",
      "112 112 112 \t\tgray44\n",
      "\n",
      "115 115 115 \t\tgray45\n",
      "\n",
      "117 117 117 \t\tgray46\n",
      "\n",
      "120 120 120 \t\tgray47\n",
      "\n",
      "122 122 122 \t\tgray48\n",
      "\n",
      "125 125 125 \t\tgray49\n",
      "\n",
      "127 127 127 \t\tgray50\n",
      "\n",
      "130 130 130 \t\tgray51\n",
      "\n",
      "133 133 133 \t\tgray52\n",
      "\n",
      "135 135 135 \t\tgray53\n",
      "\n",
      "138 138 138 \t\tgray54\n",
      "\n",
      "140 140 140 \t\tgray55\n",
      "\n",
      "143 143 143 \t\tgray56\n",
      "\n",
      "145 145 145 \t\tgray57\n",
      "\n",
      "148 148 148 \t\tgray58\n",
      "\n",
      "150 150 150 \t\tgray59\n",
      "\n",
      "153 153 153 \t\tgray60\n",
      "\n",
      "156 156 156 \t\tgray61\n",
      "\n",
      "158 158 158 \t\tgray62\n",
      "\n",
      "161 161 161 \t\tgray63\n",
      "\n",
      "163 163 163 \t\tgray64\n",
      "\n",
      "166 166 166 \t\tgray65\n",
      "\n",
      "168 168 168 \t\tgray66\n",
      "\n",
      "171 171 171 \t\tgray67\n",
      "\n",
      "173 173 173 \t\tgray68\n",
      "\n",
      "176 176 176 \t\tgray69\n",
      "\n",
      "179 179 179 \t\tgray70\n",
      "\n",
      "181 181 181 \t\tgray71\n",
      "\n",
      "184 184 184 \t\tgray72\n",
      "\n",
      "186 186 186 \t\tgray73\n",
      "\n",
      "189 189 189 \t\tgray74\n",
      "\n",
      "191 191 191 \t\tgray75\n",
      "\n",
      "194 194 194 \t\tgray76\n",
      "\n",
      "196 196 196 \t\tgray77\n",
      "\n",
      "199 199 199 \t\tgray78\n",
      "\n",
      "201 201 201 \t\tgray79\n",
      "\n",
      "204 204 204 \t\tgray80\n",
      "\n",
      "207 207 207 \t\tgray81\n",
      "\n",
      "209 209 209 \t\tgray82\n",
      "\n",
      "212 212 212 \t\tgray83\n",
      "\n",
      "214 214 214 \t\tgray84\n",
      "\n",
      "217 217 217 \t\tgray85\n",
      "\n",
      "219 219 219 \t\tgray86\n",
      "\n",
      "222 222 222 \t\tgray87\n",
      "\n",
      "224 224 224 \t\tgray88\n",
      "\n",
      "227 227 227 \t\tgray89\n",
      "\n",
      "229 229 229 \t\tgray90\n",
      "\n",
      "232 232 232 \t\tgray91\n",
      "\n",
      "235 235 235 \t\tgray92\n",
      "\n",
      "237 237 237 \t\tgray93\n",
      "\n",
      "240 240 240 \t\tgray94\n",
      "\n",
      "242 242 242 \t\tgray95\n",
      "\n",
      "245 245 245 \t\tgray96\n",
      "\n",
      "247 247 247 \t\tgray97\n",
      "\n",
      "250 250 250 \t\tgray98\n",
      "\n",
      "252 252 252 \t\tgray99\n",
      "\n",
      "255 255 255 \t\tgray100\n",
      "\n",
      "169 169 169\t\tdark grey\n",
      "\n",
      "169 169 169\t\tdark gray\n",
      "\n",
      "0     0 139\t\tdark blue\n",
      "\n",
      "0   139 139\t\tdark cyan\n",
      "\n",
      "139   0 139\t\tdark magenta\n",
      "\n",
      "139   0   0\t\tdark red\n",
      "\n",
      "144 238 144\t\tlight green\n",
      "\n",
      "\n"
     ]
    }
   ],
   "source": [
    "with open(\"files/rgb.txt\", \"r\") as f:\n",
    "# for line in f:\n",
    "#     f.read().split()\n",
    "#     print(f)\n",
    "# with open(\"files/rgb.txt\", \"r\") as fin:\n",
    "     # data = fin.read().splitlines(True)\n",
    "# with open(\"files/rgb.txt\", \"w\") as fout:\n",
    "      # fout.writelines(data[1:1])\n",
    "      #print(data)\n",
    "      for line in f:\n",
    "          line = f.readline()\n",
    "          print(line)\n",
    "      # print(f.read())\n",
    "f.close()"
   ]
  },
  {
   "cell_type": "code",
   "execution_count": null,
   "metadata": {},
   "outputs": [],
   "source": []
  },
  {
   "cell_type": "markdown",
   "metadata": {
    "colab_type": "text",
    "id": "_7uFI03L4JKQ"
   },
   "source": [
    "#### <div class=\"alert alert-info\">Group Exercise 4 (word frequencies)</div>\n",
    "\n",
    "Create function `word_frequencies` that gets a filename as a parameter and returns a dict with the word frequencies. In the dictionary the keys are the words and the corresponding values are the number of times that word occurred in the file specified by the function parameter. Read all the lines from the file and split the lines into words using the `split()` method. Further, remove punctuation from the ends of words using the `strip(\"\"\"!\"#$%&'()*,-./:;?@[]_\"\"\")` method call.\n",
    "\n",
    "Test this function in the main function using the file `alice.txt`. In the output, there should be a word and its count per line separated by a tab:\n",
    "\n",
    "```\n",
    "The     64\n",
    "Project 83\n",
    "Gutenberg\t26\n",
    "EBook   3\n",
    "of      303\n",
    "```\n",
    "\n",
    "<hr/>"
   ]
  },
  {
   "cell_type": "code",
   "execution_count": 25,
   "metadata": {},
   "outputs": [
    {
     "name": "stdout",
     "output_type": "stream",
     "text": [
      "Number of words in the file : Counter({'the': 175, 'of': 120, 'and': 101, 'to': 78, 'The': 68, 'a': 68, 'in': 58, 'are': 51, 'is': 34, 'or': 29, 'on': 24, 'with': 20, 'by': 19, 'for': 18, 'you': 17, 'have': 16, 'be': 15, 'We': 15, 'from': 13, 'as': 12, 'northern': 12, 'north': 11, 'that': 10, 'it': 10, 'day': 10, 'may': 10, 'A': 9, 'many': 9, 'our': 9, 'life': 8, 'more': 8, 'at': 8, 'an': 8, 'In': 8, 'They': 8, 'not': 7, 'their': 7, 'they': 7, 'up': 7, 'aircraft': 7, 'must': 7, 'were': 7, 'most': 6, 'lake': 6, 'large': 6, 'if': 6, 'ice': 6, 'can': 6, 'all': 6, 'miles': 6, 'fishing': 6, 'your': 6, 'we': 6, 'If': 5, 'down': 5, 'than': 5, 'his': 5, 'southern': 5, 'do': 5, 'some': 5, 'fish': 5, 'when': 5, 'day.': 5, 'winter': 5, 'For': 5, 'new': 5, 'TV': 5, 'road': 4, 'north.': 4, 'away': 4, 'There': 4, 'so': 4, 'live': 4, 'services': 4, 'food': 4, 'local': 4, 'Most': 4, 'these': 4, 'but': 4, 'available': 4, 'small': 4, '40': 4, 'them': 4, 'life.': 4, 'few': 4, 'has': 4, 'roads': 4, 'left': 4, 'hunting': 4, 'move': 4, 'home': 4, 'To': 4, 'fresh': 4, 'was': 4, 'had': 4, 'only': 3, 'side': 3, 'any': 3, 'been': 3, 'bush': 3, 'dog': 3, 'breaking': 3, 'trout,': 3, 'never': 3, 'one': 3, 'trip': 3, 'lakes': 3, 'year': 3, 'cabin': 3, 'those': 3, 'during': 3, 'city': 3, 'which': 3, 'no': 3, 'car': 3, 'start': 3, 'conditions': 3, 'Many': 3, 'transport': 3, 'pilots': 3, 'summer': 3, 'fly': 3, 'aircraft.': 3, 'too': 3, 'thick': 3, 'change': 3, 'equipment.': 3, 'flying': 3, 'hear': 3, 'pilot': 3, 'engines': 3, 'problem': 3, 'oil': 3, 'regular': 3, 'into': 3, 'ice.': 3, 'arctic': 3, 'each': 3, 'flight': 3, 'south.': 3, 'usually': 3, 'Some': 3, 'will': 3, 'vehicles': 3, 'hours': 3, 'get': 3, 'take': 3, 'boats': 3, 'favorite': 3, 'use': 3, 'As': 3, 'another': 3, 'moose': 3, 'Other': 3, 'made': 3, 'hundreds': 3, 'carry': 3, 'travel': 3, 'same': 3, 'own': 3, 'remote': 3, 'On': 3, 'You': 3, 'per': 3, '2': 3, '10': 3, 'miss': 3, '100': 2, '53': 2, 'Jim': 2, 'degrees.': 2, \"It's\": 2, 'travellers': 2, 'rigors': 2, 'tales': 2, 'man': 2, 'flies,': 2, 'carried': 2, 'record': 2, 'through': 2, 'ducks': 2, 'feeding': 2, 'quiet': 2, 'Once': 2, 'loon': 2, 'voice': 2, 'wildlife': 2, 'land': 2, 'special': 2, 'person': 2, 'farther': 2, 'this': 2, 'becomes': 2, 'whether': 2, 'first': 2, 'owners': 2, 'basis.': 2, 'center': 2, 'equipped': 2, 'paved': 2, 'natural': 2, 'gas': 2, 'provide': 2, 'food,': 2, 'repairs,': 2, 'family': 2, 'seasons.': 2, 'five': 2, 'well': 2, 'streets': 2, 'These': 2, 'communities,': 2, 'urban': 2, 'areas': 2, 'nearby': 2, 'bus': 2, 'taxi': 2, 'service': 2, 'Even': 2, \"it's\": 2, 'back': 2, 'pick': 2, 'delivery': 2, 'winter.': 2, 'requires': 2, 'especially': 2, 'rail': 2, 'all.': 2, 'because': 2, 'natives': 2, 'ground.': 2, 'fishermen,': 2, 'fish,': 2, 'logging': 2, 'settlements.': 2, 'skis': 2, 'problems': 2, 'below': 2, 'zero,': 2, 'All': 2, 'propeller': 2, 'tied': 2, 'holes': 2, 'four': 2, 'onto': 2, 'passengers': 2, 'heavy': 2, 'cold.': 2, 'ensure': 2, 'next': 2, 'covered': 2, 'snow': 2, 'engine': 2, '50': 2, 'degrees': 2, 'This': 2, 'after': 2, 'lack': 2, 'communities': 2, 'pay': 2, 'people': 2, 'landing': 2, 'out': 2, 'winter,': 2, 'major': 2, 'enjoy': 2, 'motors': 2, 'stored': 2, 'bait': 2, 'Moose': 2, 'require': 2, 'kept': 2, 'hunting.': 2, 'home.': 2, 'spring': 2, 'equipment': 2, 'return': 2, 'begin': 2, 'fishing,': 2, 'fire': 2, 'At': 2, 'lakes.': 2, 'MEDEVAC': 2, 'types.': 2, 'arrive': 2, 'private': 2, 'lakes,': 2, 'great': 2, 'short': 2, 'contact': 2, 'airport': 2, 'there': 2, 'rather': 2, 'course': 2, 'present': 2, 'civilization.': 2, 'around': 2, 'surrounded': 2, 'songs': 2, 'bird': 2, 'cry': 2, 'evening': 2, 'wail': 2, 'passing': 2, 'he': 2, 'taste': 2, 'wild': 2, 'blueberries.': 2, 'Is': 2, 'high': 2, 'shore.': 2, 'like': 2, 'But': 2, 'neighbors': 2, 'also': 2, 'then': 2, 'trip.': 2, 'order': 2, 'appliances,': 2, 'mail': 2, 'radio': 2, 'prices': 2, 'cost': 2, 'higher': 2, 'years': 2, 'then,': 2, 'prices.': 2, 'ancestry.': 2, 'other': 2, 'case': 2, 'enjoyed': 2, 'neighbors.': 2, 'wanted': 2, 'drive': 2, 'More': 2, 'WEST': 1, 'BY': 1, 'NORTH': 1, 'Prentice': 1, 'Copyright': 1, '1990,': 1, 'Prentice,': 1, 'Brandon,': 1, 'Manitoba,': 1, 'CANADA': 1, 'North': 1, '53.': 1, 'magic': 1, 'phrase.': 1, 'Spoken,': 1, 'mumbled': 1, 'thought': 1, 'inwardly': 1, 'thousands': 1, 'souls': 1, 'venturing': 1, 'northward.': 1, 'An': 1, 'imaginary': 1, 'line,': 1, 'shown': 1, 'maps': 1, 'labelled': 1, 'presence': 1, 'indicated': 1, 'highway': 1, 'signs.': 1, 'division': 1, 'territory': 1, 'distinct': 1, 'mind': 1, 'international': 1, 'border.': 1, '\"North': 1, '53\",': 1, 'north!': 1, 'Travellers': 1, 'writers,': 1, 'poets': 1, 'pilots,': 1, 'contributed': 1, 'lore': 1, 'told': 1, 'eating': 1, 'mosquitoes,': 1, 'murderous': 1, 'hordes': 1, 'black': 1, 'lumps': 1, 'flesh': 1, 'giant': 1, 'bull': 1, 'flies.': 1, 'stories': 1, 'walleye,': 1, 'pike': 1, 'legion.': 1, 'sights': 1, 'sounds': 1, 'heard': 1, 'deep': 1, 'spruce': 1, 'forests:': 1, 'crashing': 1, 'moose,': 1, 'tearing': 1, 'brush': 1, 'trees.': 1, 'drumming': 1, 'grouse.': 1, 'incessant': 1, 'hum': 1, 'insects.': 1, 'cackling': 1, 'quackery': 1, 'ponds': 1, 'placid': 1, 'bays.': 1, 'heard,': 1, 'intermittent': 1, 'song': 1, 'forgotten.': 1, 'signature': 1, 'authenticity': 1, 'scene.': 1, 'seems': 1, 'different': 1, 'found': 1, 'elsewhere,': 1, 'man.': 1, 'It': 1, 'takes': 1, 'breed': 1, 'travels,': 1, 'apparent.': 1, 'Southerner,': 1, 'fiftieth': 1, '53,': 1, 'really': 1, 'aware': 1, 'implications': 1, 'living.': 1, 'Generally,': 1, '\"cottages\"': 1, 'amenities': 1, 'hand': 1, 'weekend': 1, '\"roughing': 1, 'it\"': 1, 'dwellers': 1, 'round': 1, 'modern': 1, 'shore': 1, 'near': 1, 'metropolitan': 1, 'electric': 1, 'service,': 1, 'telephone,': 1, 'roads,': 1, 'pipelines,': 1, 'cable': 1, 'television.': 1, 'Nearby': 1, 'fuel,': 1, 'entertainment.': 1, 'Drivein': 1, 'theaters': 1, 'fast': 1, 'chains': 1, 'abound.': 1, 'Waterfront': 1, 'businesses': 1, 'docks': 1, 'built': 1, 'arriving': 1, 'boat': 1, 'shopping,': 1, 'laundry,': 1, 'transfer': 1, 'suitcases': 1, 'car.': 1, 'merchants': 1, 'deliver': 1, 'goods': 1, 'water.': 1, 'Entrepreneurs': 1, 'make': 1, 'businesss': 1, 'servicing': 1, 'maintaining': 1, 'cabins': 1, 'absence': 1, 'off': 1, '\"cottages\",': 1, 'shore,': 1, 'located': 1, 'water,': 1, 'rival': 1, 'homes': 1, 'dwellers.': 1, 'although': 1, 'seasonal,': 1, 'differ': 1, 'little': 1, 'living': 1, 'offer': 1, 'escape.': 1, 'Look': 1, 'average': 1, 'community.': 1, 'Study': 1, 'compare': 1, 'standards': 1, 'retreats.': 1, 'services.': 1, \"doesn't\": 1, 'either': 1, 'walk,': 1, 'call': 1, 'taxi.': 1, 'Yes,': 1, 'kind': 1, 'another.': 1, 'ride': 1, \"one's\": 1, 'truck.': 1, 'Mail': 1, 'unknown.': 1, 'pleasant': 1, 'stroll': 1, 'midsummer': 1, 'contrasted': 1, 'ordeal': 1, 'threatening': 1, 'House': 1, 'house': 1, 'milk': 1, 'bread': 1, 'nonexistent.': 1, 'Perhaps': 1, 'newspapers': 1, 'delivered,': 1, 'effort,': 1, 'Bus,': 1, 'scheduled': 1, 'air': 1, 'settlements': 1, 'severely': 1, 'restricted,': 1, 'companies': 1, 'exist': 1, 'fares': 1, 'collected': 1, 'reserves.': 1, 'Although': 1, 'diminishing': 1, 'recent': 1, 'years,': 1, 'bushpilot': 1, 'charter': 1, 'still': 1, 'play': 1, 'role': 1, 'transportation.': 1, 'learn': 1, 'would': 1, 'keep': 1, 'colleagues': 1, 'float': 1, 'busy': 1, 'hauling': 1, 'trappers,': 1, 'freight,': 1, 'furs,': 1, 'supplies': 1, 'reserves,': 1, 'camps,': 1, 'traplines,': 1, 'areas,': 1, 'fall,': 1, 'thin': 1, 'skis,': 1, 'yet': 1, 'floats,': 1, 'wheel': 1, 'Changing': 1, 'permit.': 1, 'Winter': 1, 'presents': 1, 'of.': 1, 'Temperatures': 1, 'exceeding': 1, 'blowing': 1, 'snow,': 1, 'crystals,': 1, 'whiteouts.': 1, 'challenge': 1, 'daily': 1, 'work.': 1, 'preheating': 1, 'coax': 1, 'congealed': 1, 'pitch': 1, 'mechanisms,': 1, 'fueling': 1, 'super': 1, 'cooled': 1, 'gasoline': 1, 'chores.': 1, 'ski-equipped': 1, 'ropes': 1, 'frozen': 1, 'foot': 1, 'lifted': 1, 'run': 1, 'boards': 1, 'poles': 1, 'prevent': 1, 'freezing': 1, 'Pilots': 1, 'wear': 1, 'clothing': 1, 'heat': 1, 'systems': 1, 'capable': 1, 'coping': 1, 'Aircraft': 1, 'batteries': 1, 'removed': 1, 'end': 1, 'maximum': 1, 'efficiency': 1, 'Wings': 1, 'stop': 1, 'ingress': 1, 'build': 1, 'frost': 1, 'surfaces.': 1, 'Gasoline': 1, 'fueled': 1, 'blow-pots': 1, 'often': 1, 'preheat': 1, 'starting.': 1, 'gets': 1, 'minus': 1, 'cannot': 1, 'turned.': 1, 'writer': 1, 'done': 1, 'chin-ups': 1, 'coldsoaked': 1, 'Cessna': 1, 'flew': 1, 'preheating.': 1, 'airports': 1, 'degree': 1, 'comparison': 1, 'Fuel': 1, 'locate': 1, 'operator.': 1, 'larger': 1, 'telephone': 1, 'airstrip,': 1, 'normal': 1, 'procedure': 1, 'buzz': 1, 'town': 1, 'arrival.': 1, 'lets': 1, 'know': 1, 'someone': 1, 'head': 1, 'strip': 1, 'meet': 1, 'you.': 1, 'Unless': 1, 'customer,': 1, 'transactions': 1, 'fuel': 1, 'cash': 1, 'Cheques': 1, 'nearly': 1, 'useless': 1, 'village': 1, 'without': 1, 'bank.': 1, 'Credit': 1, 'stranger': 1, 'foolhardy.': 1, 'During': 1, 'grip': 1, 'snowmobile': 1, 'mode': 1, 'largest': 1, 'places': 1, 'running': 1, '24': 1, 'allowed': 1, 'cold,': 1, 'effort': 1, 'restart': 1, 'balky': 1, 'engines.': 1, 'residents': 1, 'months.': 1, 'seasons': 1, 'brings': 1, 'activities.': 1, 'lawnmowers': 1, 'garden': 1, 'chairs.': 1, 'snowmobiles': 1, 'tuned': 1, 'up,': 1, 'ice-fishing': 1, 'shacks': 1, 'towed': 1, 'rivers.': 1, 'blades': 1, 'gas-': 1, 'powered': 1, 'augers': 1, 'sharpened.': 1, 'fishermen': 1, 'flock': 1, 'spots': 1, 'drill': 1, 'feet': 1, 'thick.': 1, 'Whether': 1, 'comfort': 1, 'shack': 1, 'woodburning': 1, 'stove': 1, 'glowing': 1, 'center,': 1, 'huddled': 1, 'lee': 1, 'snowmobile,': 1, 'normally': 1, 'good': 1, 'catch.': 1, 'Walleye,': 1, 'pike,': 1, 'tullibee': 1, 'whitefish': 1, 'perch,': 1, 'burbot,': 1, 'catfish': 1, 'bass': 1, 'plentiful.': 1, 'popular': 1, 'minnows,': 1, 'sucker-belly,': 1, 'net': 1, 'bags': 1, 'trout': 1, 'eggs.': 1, 'Others': 1, 'metal': 1, 'spoons': 1, 'bucktail': 1, 'lead-headed': 1, 'jigging': 1, 'lures,': 1, 'just': 1, 'snelled': 1, 'hooks.': 1, 'summer,': 1, 'best': 1, 'whatever': 1, 'taking': 1, 'time.': 1, 'sport,': 1, 'colder': 1, 'weather': 1, 'warmth.': 1, 'hunter': 1, 'faces': 1, 'similar': 1, 'extreme': 1, 'temperatures': 1, 'snowmachine': 1, 'top': 1, 'condition': 1, 'started': 1, 'dependable.': 1, 'death': 1, 'situation': 1, 'could': 1, 'develop': 1, 'machine': 1, 'breaks': 1, 'while': 1, 'rifle': 1, 'care.': 1, 'bolt': 1, 'grease': 1, 'freeze': 1, 'solid': 1, 'firing': 1, 'pin': 1, 'struck': 1, 'hammer.': 1, 'bear': 1, 'lived': 1, 'face': 1, \"hunter's\": 1, 'weapon': 1, 'failed': 1, 'operate.': 1, 'outdoor': 1, 'activities': 1, 'include': 1, 'cross': 1, 'country': 1, 'skiing,': 1, 'snowmobiling,': 1, 'racing': 1, 'teams.': 1, 'sports': 1, 'included': 1, 'festivals': 1, 'held': 1, 'year.': 1, 'arrives,': 1, 'once': 1, 'again': 1, 'brought': 1, 'out.': 1, 'Wagers': 1, 'time': 1, 'date': 1, 'break': 1, 'river': 1, 'blowers,': 1, 'shovels,': 1, 'skidoo': 1, 'suits': 1, 'replaced': 1, 'lawn': 1, 'mowers,': 1, 'rakes,': 1, 'bathing': 1, 'suits.': 1, 'pussy': 1, 'willows': 1, 'blossom.': 1, 'geese': 1, 'grounds': 1, 'U.S.A..': 1, 'frogs': 1, 'croak': 1, 'battalions': 1, 'mosquitoes': 1, 'hatched.': 1, 'From': 1, 'lows': 1, 'mercury': 1, 'climbs': 1, 'upward.': 1, 'highs': 1, 'reach': 1, \"90's,\": 1, 'sometimes': 1, 'fantastic': 1, 'differential': 1, '140': 1, 'between': 1, 'Through': 1, 'seasons,': 1, 'continues.': 1, 'sport': 1, 'commercial': 1, 'trapping': 1, 'building,': 1, 'construction,': 1, 'landscaping.': 1, 'freight.': 1, 'patrols': 1, 'hydro-electric': 1, 'transmission': 1, 'lines': 1, 'forest': 1, 'patrols.': 1, 'intervals': 1, 'conservationists': 1, 'doing': 1, 'animal': 1, 'census.': 1, 'tanks': 1, 'baby': 1, 'restock': 1, 'seriously': 1, 'ill': 1, 'injured': 1, 'taken': 1, 'medical': 1, 'centers': 1, 'flights.': 1, 'flights': 1, 'tourists.': 1, 'Prospectors': 1, 'vie': 1, 'geologists,': 1, 'botanists,': 1, 'biologists,': 1, 'entomologists,': 1, 'surveyors.': 1, 'see,': 1, 'touch,': 1, 'smell,': 1, 'measure': 1, 'wonders': 1, 'opening': 1, 'season': 1, 'heralded': 1, 'arrival': 1, 'recreational': 1, 'Trailers': 1, 'vans,': 1, 'motorhomes': 1, \"4X4's\": 1, 'daily.': 1, 'tow': 1, 'motors,': 1, 'bicycles,': 1, 'motorcycles,': 1, 'ATVs.': 1, '\"first-timers\"': 1, 'fill': 1, 'provincial': 1, 'government': 1, 'campgrounds.': 1, 'experienced': 1, 'adventuresome': 1, 'trails': 1, 'rivers,': 1, 'streams.': 1, 'town,': 1, 'parking': 1, 'lots': 1, 'crammed': 1, 'Gasoline,': 1, 'booze,': 1, 'sold': 1, 'quantities.': 1, 'hotels': 1, 'full.': 1, 'Reservations': 1, 'months': 1, 'advance,': 1, 'prior': 1, 'leaving': 1, 'before.': 1, 'weeks,': 1, 'prime': 1, 'period,': 1, 'every': 1, 'camping': 1, 'spot': 1, 'occupied.': 1, 'wears': 1, 'on,': 1, 'sportsmen': 1, 'recede': 1, 'tourists': 1, 'place.': 1, 'cycle': 1, 'repeats': 1, 'annually.': 1, 'Each': 1, 'number': 1, 'privately': 1, 'owned': 1, 'Piper': 1, 'Cub': 1, 'Beechcraft.': 1, 'Taildragger': 1, 'bizjet.': 1, 'here': 1, 'before,': 1, 'experience.': 1, 'pilot,': 1, 'unnerving.': 1, 'Accustomed': 1, 'over': 1, 'network': 1, 'railroad': 1, 'tracks,': 1, 'always': 1, 'navigation': 1, 'aid,': 1, 'seldom': 1, 'prepared': 1, 'realities': 1, 'flight.': 1, 'Airports': 1, 'apart.': 1, 'cases': 1, 'railways': 1, 'navigation.': 1, 'lower': 1, 'altitudes,': 1, 'exception': 1, 'rule.': 1, 'Flight': 1, 'plans': 1, 'mandatory.': 1, 'Map': 1, 'reading': 1, 'difficult.': 1, 'basic': 1, 'shape': 1, 'sharp': 1, 'eye': 1, 'map.': 1, 'seaplanes,': 1, 'ever': 1, 'danger': 1, 'logs,': 1, 'rocks,': 1, 'reefs': 1, 'amplified': 1, 'distance': 1, 'Flights': 1, 'carefully': 1, 'planned': 1, 'suitable': 1, 'refueling': 1, 'facilities.': 1, 'seaplane': 1, 'element': 1, 'here.': 1, 'pleasure': 1, 'lake,': 1, 'its': 1, 'green': 1, 'waters': 1, 'undisturbed': 1, 'others,': 1, 'indescribable.': 1, 'After': 1, 'securing': 1, 'setting': 1, 'camp,': 1, 'true': 1, 'beauty': 1, 'enjoyed.': 1, 'Waters': 1, 'teeming': 1, 'smells': 1, 'wood': 1, 'smoke': 1, 'coffee': 1, 'mingling': 1, 'sound': 1, 'sizzling': 1, 'frypan.': 1, 'loon.': 1, 'coyotes': 1, 'wolves.': 1, 'whistle': 1, 'wings': 1, 'ducks,': 1, 'geese,': 1, 'ravens,': 1, 'hawks,': 1, 'eagles': 1, 'shoreline.': 1, 'wakes': 1, 'beaver': 1, 'muskrat.': 1, 'occasional': 1, 'warning': 1, 'smack': 1, \"beaver's\": 1, 'tail': 1, 'water': 1, 'senses': 1, 'danger.': 1, 'varied': 1, 'hues': 1, 'trees,': 1, 'evergreen': 1, 'deciduous.': 1, 'colors': 1, 'windflowers.': 1, 'strawberries,': 1, 'raspberries,': 1, 'excitement': 1, 'sky': 1, 'dancing': 1, 'dazzling': 1, 'display': 1, 'Aurora': 1, 'Borealis': 1, 'appears.': 1, '\"Northern': 1, 'Lights\"': 1, 'stars,': 1, 'incredibly': 1, 'brilliant': 1, 'against': 1, 'black,': 1, 'smog': 1, 'free': 1, 'heavens.': 1, 'Thoughts': 1, 'night....': 1, 'Lying': 1, 'tent': 1, 'rustling': 1, 'noises.': 1, 'twig': 1, 'snaps.': 1, 'Mouse': 1, 'rabbit?': 1, 'bear?': 1, 'secure?': 1, 'visualize': 1, 'bundle,': 1, 'securely': 1, 'tree': 1, 'branch,': 1, 'above': 1, 'wind': 1, 'rising,': 1, 'waves': 1, 'airplane': 1, 'alright?': 1, 'Should': 1, 'go': 1, 'check': 1, 'it?': 1, 'What': 1, 'morning?': 1, 'Will': 1, 'chance': 1, 'big': 1, 'Walleye': 1, 'lost': 1, 'Or': 1, 'bigger': 1, 'one?': 1, 'lone': 1, 'mosquito': 1, 'buzzes': 1, 'ear.': 1, 'Somehow': 1, 'penetrated': 1, 'netting': 1, 'tent.': 1, 'last': 1, 'thing': 1, 'hear.': 1, 'sleep': 1, 'peacefully': 1, 'until': 1, 'early': 1, 'morning': 1, 'announce': 1, 'constant': 1, 'buzz-sting-slap': 1, 'insect': 1, 'warfare,': 1, 'might': 1, 'heaven.': 1, 'Far': 1, 'south,': 1, 'friends': 1, 'facing': 1, 'Howling': 1, 'dogs.': 1, 'Screaming': 1, 'kids.': 1, 'Squealing': 1, 'tires.': 1, 'police': 1, 'sirens.': 1, 'reek': 1, 'diesel': 1, 'fumes': 1, 'trucks': 1, 'busses.': 1, 'Telephones': 1, 'jangle': 1, 'typewriters': 1, 'clatter.': 1, 'work': 1, 'piles': 1, 'up.': 1, 'Dissatisfied': 1, 'customers': 1, 'grumble.': 1, 'boss': 1, 'looms': 1, 'threateningly.': 1, 'jostle': 1, 'line': 1, 'bus,': 1, 'coffee,': 1, 'lunch.': 1, 'fight': 1, 'traffic': 1, \"neighbor's\": 1, 'deposit': 1, 'lawn.': 1, \"children's\": 1, 'toys': 1, 'cluttering': 1, 'driveway.': 1, 'sit': 1, 'dinner': 1, 'discuss': 1, 'crazy': 1, 'does': 1, 'problems;': 1, 'happen': 1, 'dealer,': 1, 'parts': 1, 'shipped': 1, 'plane.': 1, 'Meanwhile': 1, 'sits.': 1, 'applies': 1, 'tools,': 1, 'on.': 1, 'repairman': 1, 'town.': 1, 'send': 1, 'set': 1, 'or,': 1, 'buy': 1, 'one.': 1, 'By': 1, 'course.': 1, 'Providing': 1, 'community': 1, 'station': 1, 'with.': 1, 'station.': 1, 'CBC.': 1, 'augmented': 1, 'programming.': 1, 'difficult': 1, 'obtain.': 1, 'example,': 1, 'veterinarian': 1, 'visit': 1, 'weekly,': 1, 'monthly,': 1, 'Medical': 1, 'facilities': 1, 'extent,': 1, 'serious': 1, 'illness': 1, 'injury': 1, 'distant': 1, 'city.': 1, 'Fresh': 1, 'meat': 1, 'produce': 1, 'become': 1, 'areas.': 1, 'exists': 1, 'acute.': 1, 'However,': 1, 'access': 1, 'air.': 1, 'event': 1, 'shipment': 1, 'perishable': 1, 'commodities': 1, 'dependant': 1, 'space': 1, 'subsequent': 1, 'reflect': 1, 'added': 1, 'product.': 1, 'subject': 1, 'costs,': 1, 'heating': 1, 'propane': 1, 'seven': 1, 'times': 1, 'homes.': 1, 'Food,': 1, 'gasoline,': 1, 'clothing,': 1, 'considerably': 1, 'expensive': 1, 'Of': 1, 'location': 1, 'price.': 1, 'ago': 1, 'ran': 1, 'this:': 1, 'Hotel': 1, 'bed': 1, '$100.00': 1, 'night,': 1, 'Breakfast': 1, '(2': 1, 'eggs,': 1, 'toast,': 1, 'bacon,': 1, 'coffee)': 1, '$12.00': 1, 'Avgas': 1, '$7.00': 1, 'gallon': 1, '250': 1, 'circle,': 1, 'expect': 1, 'Why': 1, 'north?': 1, 'matter': 1, 'whites': 1, 'some,': 1, 'born': 1, 'there.': 1, 'Their': 1, 'parents': 1, 'having': 1, 'moved': 1, 'employment': 1, 'reasons.': 1, 'transients,': 1, 'following': 1, 'construction': 1, 'jobs': 1, 'seasonal': 1, 'employment.': 1, 'Others,': 1, 'working': 1, 'corporations': 1, 'government,': 1, 'transferred': 1, 'job': 1, 'requirement.': 1, 'Life': 1, 'definitely': 1, 'different.': 1, 'accustomed': 1, 'endure': 1, 'involved.': 1, 'give': 1, 'people,': 1, 'such': 1, 'myself,': 1, 'extended': 1, 'period.': 1, 'years.': 1, 'adapted': 1, 'way': 1, 'fishing.': 1, 'Owning': 1, 'aircraft,': 1, 'able': 1, 'independently': 1, 'outdoors': 1, 'offer.': 1, 'learned': 1, 'adjust': 1, 'night': 1, 'life,': 1, 'amenities.': 1, 'When': 1, 'passed,': 1, 'children': 1, 'adults,': 1, 'took': 1, 'stock': 1, 'situation.': 1, 'stuck': 1, 'rut.': 1, 'rut': 1, 'townspeople': 1, 'in.': 1, 'Our': 1, 'lives': 1, 'centered': 1, 'hunting,': 1, 'Post': 1, 'Office,': 1, 'set.': 1, 'decided': 1, 'moving': 1, 'now,': 1, 'possibly': 1, 'remaining': 1, 'rest': 1, 'lives.': 1, 'February': 1, '1984!': 1, 'delicious': 1, 'cold': 1, 'clear': 1, 'steaks,': 1, 'moosemeat': 1, 'sausages,': 1, 'smoked': 1, 'pancakes': 1, 'fresh,': 1, 'freedom': 1, 'afforded': 1, 'secluded': 1, 'within': 1, 'superb.': 1, 'friendship': 1, 'camaraderie': 1, 'great.': 1, 'happy': 1, 'opportunity': 1, 'experience': 1, 'But,': 1, 'approached': 1, 'midpoint': 1, 'lives,': 1, 'where': 1, 'off.': 1, 'supermarkets,': 1, 'shopping': 1, 'malls,': 1, 'fancy': 1, 'restaurants,': 1, 'gourmet': 1, 'foods.': 1, 'closer': 1, 'things,': 1, 'returned': 1, 'old': 1, 'friends,': 1, 'New': 1, 'stores,': 1, 'delivery.': 1, 'Lower': 1, 'Broader': 1, 'choices.': 1, 'see.': 1, 'channels.': 1, 'Several': 1, 'stations,': 1, 'newspapers.': 1, 'east': 1, 'west': 1, 'besides': 1, 'dance': 1, 'music': 1, 'eat': 1, 'restaurants': 1, 'nationalities.': 1, 'short,': 1, 'civilization': 1, 'THE': 1, 'END': 1, '214': 1})\n"
     ]
    }
   ],
   "source": [
    "from collections import Counter\n",
    "def word_count(fname):\n",
    "        with open(fname) as f:\n",
    "                return Counter(f.read().split())\n",
    "\n",
    "print(\"Number of words in the file :\",word_count(\"files/alice.txt\"))"
   ]
  },
  {
   "cell_type": "code",
   "execution_count": null,
   "metadata": {},
   "outputs": [],
   "source": []
  },
  {
   "cell_type": "markdown",
   "metadata": {
    "colab_type": "text",
    "id": "6PkK1lhr4JKQ"
   },
   "source": [
    "#### <div class=\"alert alert-info\">Group Exercise 5 (file count)</div>\n",
    "\n",
    "This exercise can give two points at maximum!\n",
    "\n",
    "Part 1.\n",
    "\n",
    "Create a function `file_count` that gets a filename as parameter and returns a triple of numbers. The function should read the file, count the number of lines, words, and characters in the file, and return a triple with these count in this order. You get division into words by splitting at whitespace. You don't have to remove punctuation.\n",
    "\n",
    "Part 2.\n",
    "\n",
    "Create a main function that in a loop calls `file_count` using each filename in the list of command line parameters `sys.argv[1:]` as a parameter, in turn.\n",
    "For call `python3 src/file_count file1 file2 ...`\n",
    "the output should be\n",
    "```\n",
    "?      ?       ?       file1\n",
    "?      ?       ?       file2\n",
    "...\n",
    "```\n",
    "The fields are separated by tabs (`\\t`). The fields are in order: linecount, wordcount, charactercount, filename.\n",
    "<hr/>"
   ]
  },
  {
   "cell_type": "code",
   "execution_count": 34,
   "metadata": {},
   "outputs": [],
   "source": [
    "import os\n",
    "\n",
    "def count_files(in_directory):\n",
    "    joiner= (in_directory + os.path.sep).__add__\n",
    "    return sum(\n",
    "        os.path.isfile(filename)\n",
    "        for filename\n",
    "        in map(joiner, os.listdir(in_directory))\n",
    "    )"
   ]
  },
  {
   "cell_type": "code",
   "execution_count": 37,
   "metadata": {},
   "outputs": [
    {
     "data": {
      "text/plain": [
       "293"
      ]
     },
     "execution_count": 37,
     "metadata": {},
     "output_type": "execute_result"
    }
   ],
   "source": [
    "count_files(\"/usr/lib\")"
   ]
  },
  {
   "cell_type": "markdown",
   "metadata": {
    "colab_type": "text",
    "id": "m_auCDi54JKR"
   },
   "source": [
    "#### <div class=\"alert alert-info\">Group Exercise 6 (file extensions)</div>\n",
    "\n",
    "This exercise can give two points at maximum!\n",
    "\n",
    "Part 1.\n",
    "\n",
    "Write function `file_extensions` that gets as a parameter a filename.\n",
    "It should read through the lines from this file. Each line contains a filename.\n",
    "Find the extension for each filename. The function should return a pair, where the\n",
    "first element is a list containing all filenames with no extension (with the preceding period (`.`) removed).\n",
    "The second element of the pair is a dictionary with extensions as keys and corresponding values are lists with filenames having that extension.\n",
    "\n",
    "Sounds a bit complicated, but hopefully the next example will clarify this.\n",
    "If the file contains the following lines\n",
    "```\n",
    "file1.txt\n",
    "mydocument.pdf\n",
    "file2.txt\n",
    "archive.tar.gz\n",
    "test\n",
    "```\n",
    "then the return value should be the pair:\n",
    "`([\"test\"], { \"txt\" : [\"file1.txt\", \"file2.txt\"], \"pdf\" : [\"mydocument.pdf\"], \"gz\" : [\"archive.tar.gz\"] } )`\n",
    "\n",
    "Part 2.\n",
    "\n",
    "Write a `main` method that calls the `file_extensions` function with \"src/filenames.txt\" as the argument. Then print the results so that for each extension there is a line consisting of the extension and the number of files with that extension. The first line of the output should give the number of files without extensions.\n",
    "\n",
    "With the example in part 1, the output should be\n",
    "```\n",
    "1 files with no extension\n",
    "gz 1\n",
    "pdf 1\n",
    "txt 2\n",
    "```\n",
    "Had there been no filenames without extension then the first line would have been `0 files with no extension`. In the printout list the extensions in alphabetical order.\n",
    "<hr/>"
   ]
  },
  {
   "cell_type": "code",
   "execution_count": 2,
   "metadata": {},
   "outputs": [
    {
     "name": "stdout",
     "output_type": "stream",
     "text": [
      "files/rgb\n",
      ".txt\n",
      "('.', '')\n",
      "('/Users/pankaj/a.b/image', '.png')\n"
     ]
    }
   ],
   "source": [
    "import os\n",
    "\n",
    "# unpacking the tuple\n",
    "file_name, file_extension = os.path.splitext(\"files/rgb.txt\")\n",
    "\n",
    "print(file_name)\n",
    "print(file_extension)"
   ]
  },
  {
   "cell_type": "code",
   "execution_count": null,
   "metadata": {},
   "outputs": [],
   "source": []
  },
  {
   "cell_type": "markdown",
   "metadata": {
    "colab_type": "text",
    "id": "c9w4NM514JK0"
   },
   "source": [
    "\n",
    "<!--NAVIGATION-->\n",
    "Module 6. | [Generators](./01_generators.ipynb) | **[Regular Expressions](./02_regex.ipynb)** | [String Manipulation & Regular Expressions](03_str_manipulate.ipynb) | [Closures & Generators](./04_closures_generators.ipynb) | [Exercises](./05_gen_regex_exercises.ipynb)\n",
    "<br>\n",
    "[Top](#)"
   ]
  },
  {
   "cell_type": "markdown",
   "metadata": {},
   "source": [
    "- - -\n",
    "\n",
    "Copyright © 2020 Qualex Consulting Services Incorporated."
   ]
  },
  {
   "cell_type": "code",
   "execution_count": null,
   "metadata": {},
   "outputs": [],
   "source": []
  }
 ],
 "metadata": {
  "colab": {
   "name": "basics2.ipynb",
   "provenance": []
  },
  "kernelspec": {
   "display_name": "Python 3",
   "language": "python",
   "name": "python3"
  },
  "language_info": {
   "codemirror_mode": {
    "name": "ipython",
    "version": 3
   },
   "file_extension": ".py",
   "mimetype": "text/x-python",
   "name": "python",
   "nbconvert_exporter": "python",
   "pygments_lexer": "ipython3",
   "version": "3.7.7"
  },
  "varInspector": {
   "cols": {
    "lenName": 16,
    "lenType": 16,
    "lenVar": 40
   },
   "kernels_config": {
    "python": {
     "delete_cmd_postfix": "",
     "delete_cmd_prefix": "del ",
     "library": "var_list.py",
     "varRefreshCmd": "print(var_dic_list())"
    },
    "r": {
     "delete_cmd_postfix": ") ",
     "delete_cmd_prefix": "rm(",
     "library": "var_list.r",
     "varRefreshCmd": "cat(var_dic_list()) "
    }
   },
   "types_to_exclude": [
    "module",
    "function",
    "builtin_function_or_method",
    "instance",
    "_Feature"
   ],
   "window_display": false
  }
 },
 "nbformat": 4,
 "nbformat_minor": 1
}
